{
 "cells": [
  {
   "cell_type": "code",
   "execution_count": 2,
   "metadata": {
    "collapsed": true,
    "pycharm": {
     "name": "#%%\n"
    }
   },
   "outputs": [],
   "source": [
    "# 加法运算\n",
    "import cv2\n",
    "import numpy as np\n",
    "\n",
    "# 读取图片\n",
    "cat = cv2.imread('./cat.jpg')\n",
    "dog = cv2.imread('./dog.jpg')\n",
    "\n",
    "# 在做加法之前需要把图片的形状变得完全一致\n",
    "\"\"\"\n",
    "add的运算规则\n",
    "两个图片对应位置的元素相加，如果超过255，全部变成255\n",
    "两个图片对应位置的元素相减，如果相减完小于0，全部相当于0\n",
    "相乘...大于255，归于255\n",
    "相除...小于0，归于0\n",
    "\"\"\"\n",
    "# 1.通过 ndarray 的切片方式取出完全一样的形状\n",
    "new_dog = dog[0:911,0:1080]\n",
    "new_cat = cat[0:911,0:1080]\n",
    "# print(new_cat[:3,:3])\n",
    "# print(\"------------------\")\n",
    "# print(new_dog[:3,:3])\n",
    "# print(\"==============\")\n",
    "# cv2.add 加法操作要求两个图片的长宽相同，通道数相同\n",
    "# new_img = cv2.add(new_dog,new_cat)\n",
    "# print(new_img[:3])\n",
    "\n",
    "#图片还可以和单个数字进行运算\n",
    "#每个元素和100 进行加法运算，超出255的元素会被截断，相当于 %255\n",
    "\n",
    "# new_dog += 100\n",
    "# print(new_dog[:3,:3])\n",
    "\n",
    "# 乘法 multiply\n",
    "new_img =  cv2.multiply(new_cat,new_dog)\n",
    "\n",
    "# 除法 divide\n",
    "new_img = cv2.divide(new_cat,new_dog)\n",
    "\n",
    "# cv2.imshow('new_dog',new_dog)\n",
    "\n",
    "cv2.imshow('new_img',new_img)\n",
    "cv2.waitKey(0)\n",
    "cv2.destroyAllWindows()"
   ]
  },
  {
   "cell_type": "code",
   "execution_count": 2,
   "outputs": [],
   "source": [
    "# 图像的融合（权重加法）\n",
    "# 不是简单的加法，相当于拿图片做 线性运算 new_img = img*w1 + img*w2 + bias\n",
    "import cv2\n",
    "import numpy\n",
    "\n",
    "cat = cv2.imread('./cat.jpg')\n",
    "dog = cv2.imread('./dog.jpg')\n",
    "\n",
    "new_dog = dog[0:911,0:1080]\n",
    "new_cat = cat[0:911,0:1080]\n",
    "\n",
    "new_img = cv2.addWeighted(new_cat,0.3,new_dog,0.7,0)\n",
    "\n",
    "cv2.imshow('new_img',new_img)\n",
    "cv2.waitKey(0)\n",
    "cv2.destroyAllWindows()"
   ],
   "metadata": {
    "collapsed": false,
    "pycharm": {
     "name": "#%%\n"
    }
   }
  },
  {
   "cell_type": "code",
   "execution_count": 4,
   "outputs": [
    {
     "data": {
      "text/plain": "196"
     },
     "execution_count": 4,
     "metadata": {},
     "output_type": "execute_result"
    }
   ],
   "source": [
    "# OpenCV 的逻辑运算 —— 与或非\n",
    "# 异或符号 ^\n",
    "1 ^ 1\n",
    "\n",
    "# OpenCV 中的逻辑运算就是 对应位置元素进行与或非，异或\n",
    "204 & 213 # 转换二进制进行运算"
   ],
   "metadata": {
    "collapsed": false,
    "pycharm": {
     "name": "#%%\n"
    }
   }
  },
  {
   "cell_type": "code",
   "execution_count": 5,
   "outputs": [
    {
     "data": {
      "text/plain": "-256"
     },
     "execution_count": 5,
     "metadata": {},
     "output_type": "execute_result"
    }
   ],
   "source": [
    "# OpenCV中的非，0 的非是 255"
   ],
   "metadata": {
    "collapsed": false,
    "pycharm": {
     "name": "#%%\n"
    }
   }
  },
  {
   "cell_type": "code",
   "execution_count": 16,
   "outputs": [
    {
     "name": "stdout",
     "output_type": "stream",
     "text": [
      "[[[ 40 154 254]\n",
      "  [ 40 154 254]]\n",
      "\n",
      " [[ 42 156 255]\n",
      "  [ 42 157 254]]]\n",
      "[[[123 151 162]\n",
      "  [117 145 156]]\n",
      "\n",
      " [[123 151 162]\n",
      "  [116 144 155]]]\n",
      "[[[ 83  13  92]\n",
      "  [ 93  11  98]]\n",
      "\n",
      " [[ 81  11  93]\n",
      "  [ 94  13 101]]]\n"
     ]
    }
   ],
   "source": [
    "import cv2\n",
    "import numpy as np\n",
    "\n",
    "cat = cv2.imread('./cat.jpg')\n",
    "dog = cv2.imread('./dog.jpg')\n",
    "\n",
    "# 图片的非操作 相当于 255-cat\n",
    "# cat_not = cv2.bitwise_not(cat)\n",
    "# cv2.imshow('not',np.hstack((cat,cat_not)))\n",
    "# print(cat[:2,:2])\n",
    "# print(cat_not[:2,:2])\n",
    "\n",
    "# 切割图片\n",
    "new_dog = dog[0:911,0:1080]\n",
    "new_cat = cat[0:911,0:1080]\n",
    "# 与操作\n",
    "# cat_and = cv2.bitwise_and(new_cat,new_dog)\n",
    "# cv2.imshow('and',np.hstack((cat,cat_and)))\n",
    "# print(new_cat[:2,:2])\n",
    "# print(new_dog[:2,:2])\n",
    "# print(cat_and[:2,:2])\n",
    "\n",
    "# 或操作\n",
    "# cat_or = cv2.bitwise_or(new_cat,new_dog)\n",
    "# cv2.imshow('or',np.hstack((cat,new_dog,cat_and)))\n",
    "# print(new_cat[:2,:2])\n",
    "# print(new_dog[:2,:2])\n",
    "# print(cat_or[:2,:2])\n",
    "\n",
    "# 异或操作\n",
    "cat_xor = cv2.bitwise_xor(new_cat,new_dog)\n",
    "cv2.imshow('xor',np.hstack((cat,new_dog,cat_xor)))\n",
    "print(new_cat[:2,:2])\n",
    "print(new_dog[:2,:2])\n",
    "print(cat_xor[:2,:2])\n",
    "\n",
    "cv2.waitKey(0)\n",
    "cv2.destroyAllWindows()"
   ],
   "metadata": {
    "collapsed": false,
    "pycharm": {
     "name": "#%%\n"
    }
   }
  },
  {
   "cell_type": "markdown",
   "source": [
    "# 图像的基本变换"
   ],
   "metadata": {
    "collapsed": false,
    "pycharm": {
     "name": "#%% md\n"
    }
   }
  },
  {
   "cell_type": "code",
   "execution_count": 26,
   "outputs": [
    {
     "name": "stdout",
     "output_type": "stream",
     "text": [
      "(1080, 1080, 3)\n",
      "(540, 540, 3)\n"
     ]
    }
   ],
   "source": [
    "import cv2\n",
    "\n",
    "dog = cv2.imread('./dog.jpg')\n",
    "\n",
    "print(dog.shape)\n",
    "# print(cat.shape)\n",
    "\n",
    "# 将猫缩放成狗的大小\n",
    "# new_cat = cv2.resize(cat,(1080,911))\n",
    "# new_dog = cv2.resize(dog,(1080,911))\n",
    "\n",
    "# 还可以按照 x,y轴的比例 进行缩放\n",
    "new_dog2 = cv2.resize(dog,dsize=None,fx=0.5,fy=0.5)\n",
    "print(new_dog2.shape)\n",
    "cv2.imshow('new_dog2',new_dog2)\n",
    "\n",
    "# cv2.imshow('mix',np.hstack((new_cat,new_dog)))\n",
    "cv2.imshow('dog',dog)\n",
    "\n",
    "cv2.waitKey(0)\n",
    "cv2.destroyAllWindows()"
   ],
   "metadata": {
    "collapsed": false,
    "pycharm": {
     "name": "#%%\n"
    }
   }
  },
  {
   "cell_type": "markdown",
   "source": [
    "## 图像的翻转"
   ],
   "metadata": {
    "collapsed": false,
    "pycharm": {
     "name": "#%% md\n"
    }
   }
  },
  {
   "cell_type": "code",
   "execution_count": 6,
   "outputs": [],
   "source": [
    "# flip\n",
    "import cv2\n",
    "import numpy as np\n",
    "\n",
    "dog = cv2.imread('./dog.jpg')\n",
    "# flipCode=0,表示上下翻转\n",
    "# flipCode>0,表示左右翻转\n",
    "# flipCode<0,上下+左右翻转\n",
    "new_dog = cv2.flip(dog,1)\n",
    "\n",
    "cv2.imshow('new_dog',np.hstack((dog,new_dog)))\n",
    "cv2.waitKey(0)\n",
    "cv2.destroyAllWindows()"
   ],
   "metadata": {
    "collapsed": false,
    "pycharm": {
     "name": "#%%\n"
    }
   }
  },
  {
   "cell_type": "markdown",
   "source": [
    "## 图像的旋转"
   ],
   "metadata": {
    "collapsed": false,
    "pycharm": {
     "name": "#%% md\n"
    }
   }
  },
  {
   "cell_type": "code",
   "execution_count": 11,
   "outputs": [],
   "source": [
    "import cv2\n",
    "\n",
    "cat = cv2.imread('./cat.jpg')\n",
    "# - ROTATE_90_CLOCKWISE  90度顺时针\n",
    "# - ROTATE_180 180\n",
    "# - ROTATE_90_COUNTERCLOCKWISE  90度逆时针\n",
    "new_cat = cv2.rotate(cat,rotateCode=cv2.ROTATE_180)\n",
    "\n",
    "cv2.imshow('new_cat',new_cat)\n",
    "\n",
    "cv2.waitKey(0)\n",
    "cv2.destroyAllWindows()"
   ],
   "metadata": {
    "collapsed": false,
    "pycharm": {
     "name": "#%%\n"
    }
   }
  },
  {
   "cell_type": "markdown",
   "source": [
    "## 仿射变换之 平移"
   ],
   "metadata": {
    "collapsed": false,
    "pycharm": {
     "name": "#%% md\n"
    }
   }
  },
  {
   "cell_type": "code",
   "execution_count": 14,
   "outputs": [],
   "source": [
    "import cv2\n",
    "import numpy as np\n",
    "\n",
    "dog = cv2.imread('./dog.jpg')\n",
    "\n",
    "h,w,ch = dog.shape\n",
    "# 变换矩阵:最少是float32位\n",
    "M = np.float32([[1,0,200],[0,1,100]])\n",
    "\n",
    "# 平移操作\n",
    "new_dog = cv2.warpAffine(dog,M,dsize=(w,h))\n",
    "\n",
    "cv2.imshow('dog',dog)\n",
    "cv2.imshow('new_dog',new_dog)\n",
    "\n",
    "cv2.waitKey(0)\n",
    "cv2.destroyAllWindows()"
   ],
   "metadata": {
    "collapsed": false,
    "pycharm": {
     "name": "#%%\n"
    }
   }
  },
  {
   "cell_type": "markdown",
   "source": [
    "## 仿射变换之 获取变换矩阵"
   ],
   "metadata": {
    "collapsed": false,
    "pycharm": {
     "name": "#%% md\n"
    }
   }
  },
  {
   "cell_type": "code",
   "execution_count": 16,
   "outputs": [],
   "source": [
    "# 在进行旋转操作的时候，不方便手动计算变换矩阵\n",
    "# OpenCV 提供了获取 变换矩阵的API\n",
    "import cv2\n",
    "import numpy as np\n",
    "\n",
    "dog = cv2.imread('./dog.jpg')\n",
    "\n",
    "h,w,ch = dog.shape\n",
    "\n",
    "# 变换矩阵\n",
    "# 规定按照逆时针旋转图片\n",
    "M = cv2.getRotationMatrix2D((100,100),15,1)\n",
    "\n",
    "new_dog = cv2.warpAffine(dog,M,dsize=(w,h))\n",
    "\n",
    "cv2.imshow(\"dog\",dog)\n",
    "cv2.imshow('new_dog',new_dog)\n",
    "\n",
    "cv2.waitKey(0)\n",
    "cv2.destroyAllWindows()"
   ],
   "metadata": {
    "collapsed": false,
    "pycharm": {
     "name": "#%%\n"
    }
   }
  },
  {
   "cell_type": "code",
   "execution_count": 1,
   "outputs": [],
   "source": [
    "# 通过三个点确定变换矩阵\n",
    "import cv2\n",
    "import numpy as np\n",
    "\n",
    "dog = cv2.imread('./dog.jpg')\n",
    "\n",
    "h,w,ch = dog.shape\n",
    "\n",
    "src = np.float32([[100,100],[200,100],[200,300]])\n",
    "dst = np.float32([[100,150],[360,200],[280,120]])\n",
    "# 需要原始图片的三个点坐标，和变换之后的三个对应的坐标\n",
    "M = cv2.getAffineTransform(src,dst)\n",
    "new_dog = cv2.warpAffine(dog,M,(w,h))\n",
    "\n",
    "cv2.imshow('dog',dog)\n",
    "cv2.imshow('new_dog',new_dog)\n",
    "\n",
    "cv2.waitKey(0)\n",
    "cv2.destroyAllWindows()"
   ],
   "metadata": {
    "collapsed": false,
    "pycharm": {
     "name": "#%%\n"
    }
   }
  },
  {
   "cell_type": "markdown",
   "source": [
    "## 仿射变换之 透视变换"
   ],
   "metadata": {
    "collapsed": false,
    "pycharm": {
     "name": "#%% md\n"
    }
   }
  },
  {
   "cell_type": "code",
   "execution_count": 20,
   "outputs": [],
   "source": [
    "import cv2\n",
    "import numpy as np\n",
    "\n",
    "# 报错信息：215\n",
    "# 断言失效：OpenCV可能无法找到图片路径；src指定坐标对应位置报错\n",
    "\n",
    "img = cv2.imread('./toushi.jpg')\n",
    "\n",
    "# 获取变换矩阵\n",
    "# src是原图的 4 个坐标\n",
    "src = np.float32([[80,200],[1000,25],[0,1500],[1200,1460]])\n",
    "dst = np.float32([[0,0],[638,0],[0,851],[638,851]])\n",
    "M = cv2.getPerspectiveTransform(src,dst)\n",
    "\n",
    "# 透视变换\n",
    "new_img = cv2.warpPerspective(img,M,(638,851))\n",
    "\n",
    "cv2.imshow('img',img)\n",
    "cv2.imshow('new_img',new_img)\n",
    "\n",
    "cv2.waitKey(0)\n",
    "cv2.destroyAllWindows()"
   ],
   "metadata": {
    "collapsed": false,
    "pycharm": {
     "name": "#%%\n"
    }
   }
  }
 ],
 "metadata": {
  "kernelspec": {
   "display_name": "Python 3",
   "language": "python",
   "name": "python3"
  },
  "language_info": {
   "codemirror_mode": {
    "name": "ipython",
    "version": 2
   },
   "file_extension": ".py",
   "mimetype": "text/x-python",
   "name": "python",
   "nbconvert_exporter": "python",
   "pygments_lexer": "ipython2",
   "version": "2.7.6"
  }
 },
 "nbformat": 4,
 "nbformat_minor": 0
}