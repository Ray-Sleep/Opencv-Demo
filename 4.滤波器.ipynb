{
 "cells": [
  {
   "cell_type": "markdown",
   "source": [
    "# 滤波器"
   ],
   "metadata": {
    "collapsed": false,
    "pycharm": {
     "name": "#%% md\n"
    }
   }
  },
  {
   "cell_type": "code",
   "execution_count": null,
   "outputs": [],
   "source": [
    "# OpenCV 图像卷积操作\n",
    "import cv2\n",
    "import numpy as np\n",
    "\n",
    "# 导入图片\n",
    "img = cv2.imread('./dog.jpg')\n",
    "\n",
    "# 相当于原始图片中的每个点都被平均了一下\n",
    "# kernel = np.ones((5,5),np.float32)/25\n",
    "\n",
    "# 尝试其他卷积核\n",
    "# 锐化：\n",
    "kernel = np.array([[-1,-1,-1],[-1,8,-1],[-1,-1,-1]])\n",
    "\n",
    "# 卷积操作\n",
    "# ddepth = -1 表示图片的数据类型不变\n",
    "dst = cv2.filter2D(img,-1,kernel)\n",
    "\n",
    "# 很明显卷积之后的图片模糊了\n",
    "cv2.imshow('img',np.hstack((img,dst)))\n",
    "\n",
    "cv2.waitKey(0)\n",
    "cv2.destroyAllWindow()"
   ],
   "metadata": {
    "collapsed": false,
    "pycharm": {
     "name": "#%%\n"
    }
   }
  },
  {
   "cell_type": "markdown",
   "source": [
    "# 方盒滤波\n"
   ],
   "metadata": {
    "collapsed": false,
    "pycharm": {
     "name": "#%% md\n"
    }
   }
  },
  {
   "cell_type": "code",
   "execution_count": 1,
   "outputs": [],
   "source": [
    "import cv2\n",
    "import numpy as np\n",
    "\n",
    "img = cv2.imread('./dog.jpg')\n",
    "\n",
    "# 不用手动创建卷积核，只需要告诉方盒滤波，卷积核的大小\n",
    "dst = cv2.boxFilter(img,-1,(5,5),normalize=True)\n",
    "\n",
    "cv2.imshow('img',np.hstack((img,dst)))\n",
    "cv2.waitKey(0)\n",
    "cv2.destroyAllWindows()"
   ],
   "metadata": {
    "collapsed": false,
    "pycharm": {
     "name": "#%%\n"
    }
   }
  },
  {
   "cell_type": "markdown",
   "source": [
    "# 高斯滤波"
   ],
   "metadata": {
    "collapsed": false,
    "pycharm": {
     "name": "#%% md\n"
    }
   }
  },
  {
   "cell_type": "markdown",
   "source": [
    "<font size=2>$G (x,y) = \\frac{1}{2 \\pi \\sigma^2}e^{-\\frac{x^2+y^2}{2\\sigma^2}}$</font>"
   ],
   "metadata": {
    "collapsed": false,
    "pycharm": {
     "name": "#%% md\n"
    }
   }
  },
  {
   "cell_type": "code",
   "execution_count": 4,
   "outputs": [
    {
     "data": {
      "text/plain": "0.0707355302630646"
     },
     "execution_count": 4,
     "metadata": {},
     "output_type": "execute_result"
    }
   ],
   "source": [
    "import numpy as np\n",
    "# 计算（0，0）坐标点，对应的值\n",
    "1/(2*np.pi*1.5**2)"
   ],
   "metadata": {
    "collapsed": false,
    "pycharm": {
     "name": "#%%\n"
    }
   }
  },
  {
   "cell_type": "code",
   "execution_count": 5,
   "outputs": [
    {
     "data": {
      "text/plain": "0.04535423476987057"
     },
     "execution_count": 5,
     "metadata": {},
     "output_type": "execute_result"
    }
   ],
   "source": [
    "# 计算（-1，1）坐标点对应的值\n",
    "1/(2*np.pi*1.5**2)*np.exp(-(2/(2*1.5**2)))"
   ],
   "metadata": {
    "collapsed": false,
    "pycharm": {
     "name": "#%%\n"
    }
   }
  },
  {
   "cell_type": "code",
   "execution_count": 14,
   "outputs": [
    {
     "ename": "AttributeError",
     "evalue": "module 'cv2' has no attribute 'destoryAllWindows'",
     "output_type": "error",
     "traceback": [
      "\u001B[1;31m---------------------------------------------------------------------------\u001B[0m",
      "\u001B[1;31mAttributeError\u001B[0m                            Traceback (most recent call last)",
      "Input \u001B[1;32mIn [14]\u001B[0m, in \u001B[0;36m<cell line: 10>\u001B[1;34m()\u001B[0m\n\u001B[0;32m      8\u001B[0m cv2\u001B[38;5;241m.\u001B[39mimshow(\u001B[38;5;124m'\u001B[39m\u001B[38;5;124mimg\u001B[39m\u001B[38;5;124m'\u001B[39m,np\u001B[38;5;241m.\u001B[39mhstack((img,dst)))\n\u001B[0;32m      9\u001B[0m cv2\u001B[38;5;241m.\u001B[39mwaitKey(\u001B[38;5;241m0\u001B[39m)\n\u001B[1;32m---> 10\u001B[0m \u001B[43mcv2\u001B[49m\u001B[38;5;241;43m.\u001B[39;49m\u001B[43mdestoryAllWindows\u001B[49m()\n",
      "\u001B[1;31mAttributeError\u001B[0m: module 'cv2' has no attribute 'destoryAllWindows'"
     ]
    }
   ],
   "source": [
    "import cv2\n",
    "import numpy as np\n",
    "\n",
    "img = cv2.imread('./lena.png')\n",
    "\n",
    "dst = cv2.GaussianBlur(img,(5,5),sigmaX=10)\n",
    "\n",
    "cv2.imshow('img',np.hstack((img,dst)))\n",
    "cv2.waitKey(0)\n",
    "cv2.destoryAllWindows()\n",
    "# 使用高斯滤波去噪"
   ],
   "metadata": {
    "collapsed": false,
    "pycharm": {
     "name": "#%%\n"
    }
   }
  },
  {
   "cell_type": "code",
   "execution_count": 1,
   "outputs": [
    {
     "ename": "AttributeError",
     "evalue": "module 'cv2' has no attribute 'destoryAllWindows'",
     "output_type": "error",
     "traceback": [
      "\u001B[1;31m---------------------------------------------------------------------------\u001B[0m",
      "\u001B[1;31mAttributeError\u001B[0m                            Traceback (most recent call last)",
      "Input \u001B[1;32mIn [1]\u001B[0m, in \u001B[0;36m<cell line: 11>\u001B[1;34m()\u001B[0m\n\u001B[0;32m      9\u001B[0m cv2\u001B[38;5;241m.\u001B[39mimshow(\u001B[38;5;124m'\u001B[39m\u001B[38;5;124mimg\u001B[39m\u001B[38;5;124m'\u001B[39m,np\u001B[38;5;241m.\u001B[39mhstack((img,dst)))\n\u001B[0;32m     10\u001B[0m cv2\u001B[38;5;241m.\u001B[39mwaitKey(\u001B[38;5;241m0\u001B[39m)\n\u001B[1;32m---> 11\u001B[0m \u001B[43mcv2\u001B[49m\u001B[38;5;241;43m.\u001B[39;49m\u001B[43mdestoryAllWindows\u001B[49m()\n",
      "\u001B[1;31mAttributeError\u001B[0m: module 'cv2' has no attribute 'destoryAllWindows'"
     ]
    }
   ],
   "source": [
    "import cv2\n",
    "import numpy as np\n",
    "\n",
    "img = cv2.imread('./hujiao.png')\n",
    "\n",
    "# 中值滤波\n",
    "dst = cv2.medianBlur(img,5)\n",
    "\n",
    "cv2.imshow('img',np.hstack((img,dst)))\n",
    "cv2.waitKey(0)\n",
    "cv2.destoryAllWindows()"
   ],
   "metadata": {
    "collapsed": false,
    "pycharm": {
     "name": "#%%\n"
    }
   }
  },
  {
   "cell_type": "markdown",
   "source": [
    "# 双边滤波"
   ],
   "metadata": {
    "collapsed": false,
    "pycharm": {
     "name": "#%% md\n"
    }
   }
  },
  {
   "cell_type": "code",
   "execution_count": 3,
   "outputs": [
    {
     "ename": "AttributeError",
     "evalue": "module 'cv2' has no attribute 'destoryAllWindows'",
     "output_type": "error",
     "traceback": [
      "\u001B[1;31m---------------------------------------------------------------------------\u001B[0m",
      "\u001B[1;31mAttributeError\u001B[0m                            Traceback (most recent call last)",
      "Input \u001B[1;32mIn [3]\u001B[0m, in \u001B[0;36m<cell line: 10>\u001B[1;34m()\u001B[0m\n\u001B[0;32m      8\u001B[0m cv2\u001B[38;5;241m.\u001B[39mimshow(\u001B[38;5;124m'\u001B[39m\u001B[38;5;124mimg\u001B[39m\u001B[38;5;124m'\u001B[39m,np\u001B[38;5;241m.\u001B[39mhstack((img,dst)))\n\u001B[0;32m      9\u001B[0m cv2\u001B[38;5;241m.\u001B[39mwaitKey(\u001B[38;5;241m0\u001B[39m)\n\u001B[1;32m---> 10\u001B[0m \u001B[43mcv2\u001B[49m\u001B[38;5;241;43m.\u001B[39;49m\u001B[43mdestoryAllWindows\u001B[49m()\n",
      "\u001B[1;31mAttributeError\u001B[0m: module 'cv2' has no attribute 'destoryAllWindows'"
     ]
    }
   ],
   "source": [
    "import cv2\n",
    "import numpy as np\n",
    "\n",
    "img = cv2.imread('./lena.png')\n",
    "\n",
    "dst =  cv2.bilateralFilter(img,7,sigmaColor=20,sigmaSpace=50)\n",
    "\n",
    "cv2.imshow('img',np.hstack((img,dst)))\n",
    "cv2.waitKey(0)\n",
    "cv2.destoryAllWindows()"
   ],
   "metadata": {
    "collapsed": false,
    "pycharm": {
     "name": "#%%\n"
    }
   }
  },
  {
   "cell_type": "markdown",
   "source": [
    "# sobel算子"
   ],
   "metadata": {
    "collapsed": false,
    "pycharm": {
     "name": "#%% md\n"
    }
   }
  },
  {
   "cell_type": "code",
   "execution_count": null,
   "outputs": [],
   "source": [
    "import cv2\n",
    "import numpy as np\n",
    "\n",
    "img = cv2.imread('./qipan.png')\n",
    "\n",
    "# 注意sobel 算子要分别计算x,y的梯度\n",
    "# 计算x轴方向的梯度,只有垂直方向的边缘\n",
    "dx = cv2.Sobel(img,cv2.CV_64F,dx=1,dy=0,ksize=3)\n",
    "# 计算y轴方向的梯度，只有水平方向的边缘\n",
    "dy = cv2.Sobel(img,cv2.CV_64F,dx=0,dy=1,ksize=3)\n",
    "\n",
    "# 使用sobel算子，把x，y的梯度合并在一起\n",
    "dst = cv2.add(dx,dy)\n",
    "\n",
    "cv2.imshow('chess',img)\n",
    "cv2.imshow('img',np.hstack((dx,dy)))\n",
    "cv2.imshow('dst',dst)\n",
    "\n",
    "cv2.waitKey(0)\n",
    "cv2.destoryAllWindows()"
   ],
   "metadata": {
    "collapsed": false,
    "pycharm": {
     "name": "#%%\n"
    }
   }
  },
  {
   "cell_type": "markdown",
   "source": [
    "# 沙尔（Scharr）"
   ],
   "metadata": {
    "collapsed": false,
    "pycharm": {
     "name": "#%% md\n"
    }
   }
  },
  {
   "cell_type": "code",
   "execution_count": 12,
   "outputs": [
    {
     "ename": "AttributeError",
     "evalue": "module 'cv2' has no attribute 'destoryAllWindows'",
     "output_type": "error",
     "traceback": [
      "\u001B[1;31m---------------------------------------------------------------------------\u001B[0m",
      "\u001B[1;31mAttributeError\u001B[0m                            Traceback (most recent call last)",
      "Input \u001B[1;32mIn [12]\u001B[0m, in \u001B[0;36m<cell line: 19>\u001B[1;34m()\u001B[0m\n\u001B[0;32m     16\u001B[0m cv2\u001B[38;5;241m.\u001B[39mimshow(\u001B[38;5;124m'\u001B[39m\u001B[38;5;124mdst\u001B[39m\u001B[38;5;124m'\u001B[39m,dst)\n\u001B[0;32m     18\u001B[0m cv2\u001B[38;5;241m.\u001B[39mwaitKey(\u001B[38;5;241m0\u001B[39m)\n\u001B[1;32m---> 19\u001B[0m \u001B[43mcv2\u001B[49m\u001B[38;5;241;43m.\u001B[39;49m\u001B[43mdestoryAllWindows\u001B[49m()\n",
      "\u001B[1;31mAttributeError\u001B[0m: module 'cv2' has no attribute 'destoryAllWindows'"
     ]
    }
   ],
   "source": [
    "import cv2\n",
    "import numpy as np\n",
    "\n",
    "img = cv2.imread('./lena.png')\n",
    "\n",
    "dx = cv2.Scharr(img,cv2.CV_64F,dx=1,dy=0)\n",
    "# 计算y轴方向的梯度，只有水平方向的边缘\n",
    "dy = cv2.Scharr(img,cv2.CV_64F,dx=0,dy=1)\n",
    "\n",
    "# 使用sobel算子，把x，y的梯度合并在一起\n",
    "dst = cv2.add(dx,dy)\n",
    "\n",
    "cv2.imshow('chess',img)\n",
    "cv2.imshow('img',np.hstack((dx,dy)))\n",
    "cv2.imshow('dst',dst)\n",
    "\n",
    "cv2.waitKey(0)\n",
    "cv2.destoryAllWindows()"
   ],
   "metadata": {
    "collapsed": false,
    "pycharm": {
     "name": "#%%\n"
    }
   }
  },
  {
   "cell_type": "markdown",
   "source": [
    "# 拉普拉斯算子"
   ],
   "metadata": {
    "collapsed": false,
    "pycharm": {
     "name": "#%% md\n"
    }
   }
  },
  {
   "cell_type": "code",
   "execution_count": 2,
   "outputs": [
    {
     "ename": "AttributeError",
     "evalue": "module 'cv2' has no attribute 'destoryAllWindows'",
     "output_type": "error",
     "traceback": [
      "\u001B[1;31m---------------------------------------------------------------------------\u001B[0m",
      "\u001B[1;31mAttributeError\u001B[0m                            Traceback (most recent call last)",
      "Input \u001B[1;32mIn [2]\u001B[0m, in \u001B[0;36m<cell line: 11>\u001B[1;34m()\u001B[0m\n\u001B[0;32m      8\u001B[0m cv2\u001B[38;5;241m.\u001B[39mimshow(\u001B[38;5;124m'\u001B[39m\u001B[38;5;124mimg\u001B[39m\u001B[38;5;124m'\u001B[39m,np\u001B[38;5;241m.\u001B[39mhstack((img,dst)))\n\u001B[0;32m     10\u001B[0m cv2\u001B[38;5;241m.\u001B[39mwaitKey(\u001B[38;5;241m0\u001B[39m)\n\u001B[1;32m---> 11\u001B[0m \u001B[43mcv2\u001B[49m\u001B[38;5;241;43m.\u001B[39;49m\u001B[43mdestoryAllWindows\u001B[49m()\n",
      "\u001B[1;31mAttributeError\u001B[0m: module 'cv2' has no attribute 'destoryAllWindows'"
     ]
    }
   ],
   "source": [
    "import cv2\n",
    "import numpy as np\n",
    "\n",
    "img = cv2.imread('./qipan.png')\n",
    "\n",
    "dst = cv2.Laplacian(img,-1,ksize=3)\n",
    "\n",
    "cv2.imshow('img',np.hstack((img,dst)))\n",
    "\n",
    "cv2.waitKey(0)\n",
    "cv2.destoryAllWindows()"
   ],
   "metadata": {
    "collapsed": false,
    "pycharm": {
     "name": "#%%\n"
    }
   }
  },
  {
   "cell_type": "markdown",
   "source": [
    "# Canny 边缘检测"
   ],
   "metadata": {
    "collapsed": false,
    "pycharm": {
     "name": "#%% md\n"
    }
   }
  },
  {
   "cell_type": "code",
   "execution_count": 6,
   "outputs": [
    {
     "ename": "AttributeError",
     "evalue": "module 'cv2' has no attribute 'destoryAllWindows'",
     "output_type": "error",
     "traceback": [
      "\u001B[1;31m---------------------------------------------------------------------------\u001B[0m",
      "\u001B[1;31mAttributeError\u001B[0m                            Traceback (most recent call last)",
      "Input \u001B[1;32mIn [6]\u001B[0m, in \u001B[0;36m<cell line: 11>\u001B[1;34m()\u001B[0m\n\u001B[0;32m      9\u001B[0m cv2\u001B[38;5;241m.\u001B[39mimshow(\u001B[38;5;124m'\u001B[39m\u001B[38;5;124mimg\u001B[39m\u001B[38;5;124m'\u001B[39m,np\u001B[38;5;241m.\u001B[39mhstack((lena1,lena2)))\n\u001B[0;32m     10\u001B[0m cv2\u001B[38;5;241m.\u001B[39mwaitKey(\u001B[38;5;241m0\u001B[39m)\n\u001B[1;32m---> 11\u001B[0m \u001B[43mcv2\u001B[49m\u001B[38;5;241;43m.\u001B[39;49m\u001B[43mdestoryAllWindows\u001B[49m()\n",
      "\u001B[1;31mAttributeError\u001B[0m: module 'cv2' has no attribute 'destoryAllWindows'"
     ]
    }
   ],
   "source": [
    "import cv2\n",
    "import numpy as np\n",
    "\n",
    "img = cv2.imread('./lena.png')\n",
    "\n",
    "lena1 = cv2.Canny(img,100,200)\n",
    "lena2 = cv2.Canny(img,64,128)\n",
    "\n",
    "cv2.imshow('img',np.hstack((lena1,lena2)))\n",
    "cv2.waitKey(0)\n",
    "cv2.destoryAllWindows()"
   ],
   "metadata": {
    "collapsed": false,
    "pycharm": {
     "name": "#%%\n"
    }
   }
  },
  {
   "cell_type": "code",
   "execution_count": null,
   "outputs": [],
   "source": [
    "import cv2\n"
   ],
   "metadata": {
    "collapsed": false,
    "pycharm": {
     "name": "#%%\n"
    }
   }
  }
 ],
 "metadata": {
  "kernelspec": {
   "display_name": "Python 3",
   "language": "python",
   "name": "python3"
  },
  "language_info": {
   "codemirror_mode": {
    "name": "ipython",
    "version": 2
   },
   "file_extension": ".py",
   "mimetype": "text/x-python",
   "name": "python",
   "nbconvert_exporter": "python",
   "pygments_lexer": "ipython2",
   "version": "2.7.6"
  }
 },
 "nbformat": 4,
 "nbformat_minor": 0
}