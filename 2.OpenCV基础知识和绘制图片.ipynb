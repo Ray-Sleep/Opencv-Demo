{
 "cells": [
  {
   "cell_type": "markdown",
   "source": [],
   "metadata": {
    "collapsed": false,
    "pycharm": {
     "name": "#%% md\n"
    }
   }
  },
  {
   "cell_type": "markdown",
   "source": [
    "### 颜色空间"
   ],
   "metadata": {
    "collapsed": false,
    "pycharm": {
     "name": "#%% md\n"
    }
   }
  },
  {
   "cell_type": "code",
   "execution_count": 1,
   "outputs": [
    {
     "ename": "AttributeError",
     "evalue": "module 'cv2' has no attribute 'destoryAllWindows'",
     "output_type": "error",
     "traceback": [
      "\u001B[1;31m---------------------------------------------------------------------------\u001B[0m",
      "\u001B[1;31mAttributeError\u001B[0m                            Traceback (most recent call last)",
      "Input \u001B[1;32mIn [1]\u001B[0m, in \u001B[0;36m<cell line: 7>\u001B[1;34m()\u001B[0m\n\u001B[0;32m      4\u001B[0m cv2\u001B[38;5;241m.\u001B[39mimshow(\u001B[38;5;124m'\u001B[39m\u001B[38;5;124mcat\u001B[39m\u001B[38;5;124m'\u001B[39m,cat)\n\u001B[0;32m      6\u001B[0m cv2\u001B[38;5;241m.\u001B[39mwaitKey(\u001B[38;5;241m0\u001B[39m)\n\u001B[1;32m----> 7\u001B[0m \u001B[43mcv2\u001B[49m\u001B[38;5;241;43m.\u001B[39;49m\u001B[43mdestoryAllWindows\u001B[49m()\n",
      "\u001B[1;31mAttributeError\u001B[0m: module 'cv2' has no attribute 'destoryAllWindows'"
     ]
    }
   ],
   "source": [
    "import cv2\n",
    "\n",
    "cat = cv2.imread('./cat.jpg')\n",
    "cv2.imshow('cat',cat)\n",
    "\n",
    "cv2.waitKey(0)\n",
    "cv2.destoryAllWindows()"
   ],
   "metadata": {
    "collapsed": false,
    "pycharm": {
     "name": "#%%\n"
    }
   }
  },
  {
   "cell_type": "code",
   "execution_count": null,
   "outputs": [],
   "source": [
    "from pandas import DataFrame"
   ],
   "metadata": {
    "collapsed": false,
    "pycharm": {
     "name": "#%%\n"
    }
   }
  },
  {
   "cell_type": "code",
   "execution_count": 4,
   "outputs": [],
   "source": [
    "# 用每一个像素创建 dataframe\n",
    "df = DataFrame(cat.reshape(-1,3))"
   ],
   "metadata": {
    "collapsed": false,
    "pycharm": {
     "name": "#%%\n"
    }
   }
  },
  {
   "cell_type": "code",
   "execution_count": 5,
   "outputs": [
    {
     "data": {
      "text/plain": "<bound method NDFrame.head of           0    1    2\n0        40  154  254\n1        40  154  254\n2        42  155  252\n3        43  156  252\n4        49  159  254\n...      ..  ...  ...\n1161520  65  131  210\n1161521  43  109  188\n1161522  63  128  203\n1161523  45  107  178\n1161524  32   92  162\n\n[1161525 rows x 3 columns]>"
     },
     "execution_count": 5,
     "metadata": {},
     "output_type": "execute_result"
    }
   ],
   "source": [
    "df.head"
   ],
   "metadata": {
    "collapsed": false,
    "pycharm": {
     "name": "#%%\n"
    }
   }
  },
  {
   "cell_type": "code",
   "execution_count": 12,
   "outputs": [
    {
     "data": {
      "text/plain": "array([  158750, -1002772])"
     },
     "execution_count": 12,
     "metadata": {},
     "output_type": "execute_result"
    }
   ],
   "source": [
    "c_sum = df.shape - df.duplicated().sum() # 总共颜色 - 判断是否重复的颜色（即重复过的颜色） = 图片颜色种类\n",
    "c_sum"
   ],
   "metadata": {
    "collapsed": false,
    "pycharm": {
     "name": "#%%\n"
    }
   }
  },
  {
   "cell_type": "code",
   "execution_count": 1,
   "outputs": [
    {
     "ename": "error",
     "evalue": "OpenCV(4.6.0) D:\\a\\opencv-python\\opencv-python\\opencv\\modules\\highgui\\src\\window_w32.cpp:2581: error: (-27:Null pointer) NULL window: 'color' in function 'cvGetTrackbarPos'\n",
     "output_type": "error",
     "traceback": [
      "\u001B[1;31m---------------------------------------------------------------------------\u001B[0m",
      "\u001B[1;31merror\u001B[0m                                     Traceback (most recent call last)",
      "Input \u001B[1;32mIn [1]\u001B[0m, in \u001B[0;36m<cell line: 35>\u001B[1;34m()\u001B[0m\n\u001B[0;32m     31\u001B[0m cv2\u001B[38;5;241m.\u001B[39mcreateTrackbar(\u001B[38;5;124m'\u001B[39m\u001B[38;5;124mtrackbar\u001B[39m\u001B[38;5;124m'\u001B[39m,\u001B[38;5;124m'\u001B[39m\u001B[38;5;124mcolor\u001B[39m\u001B[38;5;124m'\u001B[39m,\u001B[38;5;241m0\u001B[39m,\u001B[38;5;241m4\u001B[39m,callback)\n\u001B[0;32m     33\u001B[0m \u001B[38;5;28;01mwhile\u001B[39;00m \u001B[38;5;28;01mTrue\u001B[39;00m:\n\u001B[0;32m     34\u001B[0m     \u001B[38;5;66;03m# 获取trackbar 的值\u001B[39;00m\n\u001B[1;32m---> 35\u001B[0m     index \u001B[38;5;241m=\u001B[39m \u001B[43mcv2\u001B[49m\u001B[38;5;241;43m.\u001B[39;49m\u001B[43mgetTrackbarPos\u001B[49m\u001B[43m(\u001B[49m\u001B[38;5;124;43m'\u001B[39;49m\u001B[38;5;124;43mtrackbar\u001B[39;49m\u001B[38;5;124;43m'\u001B[39;49m\u001B[43m,\u001B[49m\u001B[38;5;124;43m'\u001B[39;49m\u001B[38;5;124;43mcolor\u001B[39;49m\u001B[38;5;124;43m'\u001B[39;49m\u001B[43m)\u001B[49m\n\u001B[0;32m     37\u001B[0m     \u001B[38;5;66;03m# 进行颜色空间转化\u001B[39;00m\n\u001B[0;32m     38\u001B[0m     cvt_img \u001B[38;5;241m=\u001B[39m cv2\u001B[38;5;241m.\u001B[39mcvtColor(img,color_spaces[index])\n",
      "\u001B[1;31merror\u001B[0m: OpenCV(4.6.0) D:\\a\\opencv-python\\opencv-python\\opencv\\modules\\highgui\\src\\window_w32.cpp:2581: error: (-27:Null pointer) NULL window: 'color' in function 'cvGetTrackbarPos'\n"
     ]
    }
   ],
   "source": [
    "\"\"\"\n",
    "代码总结：\n",
    "当可滚动控件 trackbar 滑倒以下数值时：\n",
    "0：图片以 RGBA 的形式展示（A为透明度）\n",
    "1：图片以 BGRA 的形式展示\n",
    "2：图片以 GRAY 的形式展示\n",
    "3：图片以 HSV 的形式展示\n",
    "4：图片以 YUV 的形式展示\n",
    "\"\"\"\n",
    "# 关键API cv2.cvtColor\n",
    "import cv2\n",
    "\n",
    "def callback(value):\n",
    "    pass\n",
    "\n",
    "cv2.namedWindow('color',cv2.WINDOW_NORMAL)\n",
    "cv2.resizeWindow('color',640,480)\n",
    "\n",
    "# 读取照片,OpenCV 读进来的图片默认是 BGR 的色彩空间\n",
    "img = cv2.imread('./cat.jpg')\n",
    "\n",
    "# 定义颜色空间转化列表\n",
    "color_spaces = [\n",
    "    # 所有颜色空间的的转化都是 COLOR 开头\n",
    "    cv2.COLOR_BGR2RGBA, cv2.COLOR_BGR2BGRA,\n",
    "    cv2.COLOR_BGR2GRAY, cv2.COLOR_BGR2HSV,\n",
    "    cv2.COLOR_BGR2YUV\n",
    "]\n",
    "\n",
    "# 设置trackbar\n",
    "cv2.createTrackbar('trackbar','color',0,4,callback)\n",
    "\n",
    "while True:\n",
    "    # 获取trackbar 的值\n",
    "    index = cv2.getTrackbarPos('trackbar','color')\n",
    "\n",
    "    # 进行颜色空间转化\n",
    "    cvt_img = cv2.cvtColor(img,color_spaces[index])\n",
    "\n",
    "    cv2.imshow('color',cvt_img)\n",
    "\n",
    "    key = cv2.waitKey( 10 )\n",
    "    if key == ord('q'):\n",
    "        break\n",
    "\n",
    "cv2.destoryAllWindows()"
   ],
   "metadata": {
    "collapsed": false,
    "pycharm": {
     "name": "#%%\n"
    }
   }
  },
  {
   "cell_type": "markdown",
   "source": [
    "### Mat 属性"
   ],
   "metadata": {
    "collapsed": false,
    "pycharm": {
     "name": "#%% md\n"
    }
   }
  },
  {
   "cell_type": "code",
   "execution_count": null,
   "outputs": [],
   "source": [
    " # opencv 用 mat 这种数据结构来表示图片的\n",
    "# C++ 中用 mat 来保存图片，python中把mat 转化成了 numpy 的 ndarray\n",
    "cv2.imshow()"
   ],
   "metadata": {
    "collapsed": false,
    "pycharm": {
     "name": "#%%\n"
    }
   }
  },
  {
   "cell_type": "code",
   "execution_count": 2,
   "outputs": [
    {
     "data": {
      "text/plain": "<memory at 0x0000020F7A94ED60>"
     },
     "execution_count": 2,
     "metadata": {},
     "output_type": "execute_result"
    }
   ],
   "source": [
    "# img.channels\n",
    "\n",
    "# ndarray 4种常见属性：\n",
    "img.data"
   ],
   "metadata": {
    "collapsed": false,
    "pycharm": {
     "name": "#%%\n"
    }
   }
  },
  {
   "cell_type": "code",
   "execution_count": 4,
   "outputs": [
    {
     "data": {
      "text/plain": "3484575"
     },
     "execution_count": 4,
     "metadata": {},
     "output_type": "execute_result"
    }
   ],
   "source": [
    "# 元素的总个数\n",
    "img.size"
   ],
   "metadata": {
    "collapsed": false,
    "pycharm": {
     "name": "#%%\n"
    }
   }
  },
  {
   "cell_type": "code",
   "execution_count": 6,
   "outputs": [
    {
     "data": {
      "text/plain": "dtype('uint8')"
     },
     "execution_count": 6,
     "metadata": {},
     "output_type": "execute_result"
    }
   ],
   "source": [
    "img.dtype"
   ],
   "metadata": {
    "collapsed": false,
    "pycharm": {
     "name": "#%%\n"
    }
   }
  },
  {
   "cell_type": "code",
   "execution_count": 8,
   "outputs": [
    {
     "data": {
      "text/plain": "(911, 1275, 3)"
     },
     "execution_count": 8,
     "metadata": {},
     "output_type": "execute_result"
    }
   ],
   "source": [
    "# 维度的形状\n",
    "img.shape"
   ],
   "metadata": {
    "collapsed": false,
    "pycharm": {
     "name": "#%%\n"
    }
   }
  },
  {
   "cell_type": "code",
   "execution_count": 9,
   "outputs": [
    {
     "data": {
      "text/plain": "1"
     },
     "execution_count": 9,
     "metadata": {},
     "output_type": "execute_result"
    }
   ],
   "source": [
    "img.itemsize    # 并不属于Mat的属性"
   ],
   "metadata": {
    "collapsed": false,
    "pycharm": {
     "name": "#%%\n"
    }
   }
  },
  {
   "cell_type": "code",
   "execution_count": 19,
   "outputs": [
    {
     "data": {
      "text/plain": "3"
     },
     "execution_count": 19,
     "metadata": {},
     "output_type": "execute_result"
    }
   ],
   "source": [
    "img.ndim    # 通道数"
   ],
   "metadata": {
    "collapsed": false,
    "pycharm": {
     "name": "#%%\n"
    }
   }
  },
  {
   "cell_type": "markdown",
   "source": [
    "### 深浅拷贝"
   ],
   "metadata": {
    "collapsed": false,
    "pycharm": {
     "name": "#%% md\n"
    }
   }
  },
  {
   "cell_type": "code",
   "execution_count": 18,
   "outputs": [],
   "source": [
    "# 因为在 Python 中图片数据以及包装成 ndarray 了，所有对 mat 的深浅拷贝，其实就是对 ndarray 深浅拷贝\n",
    "import cv2\n",
    "import numpy as np\n",
    "\n",
    "img = cv2.imread('./cat.jpg')\n",
    "\n",
    "# 浅拷贝\n",
    "img2 = img.view()\n",
    "\n",
    "# 深拷贝\n",
    "img3 = img.copy()\n",
    "\n",
    "img[10:100,10:100] = [0,0,255]\n",
    "\n",
    "cv2.imshow('img',np.hstack((img,img2,img3)))\n",
    "\n",
    "cv2.waitKey(0)\n",
    "cv2.destroyAllWindows()\n"
   ],
   "metadata": {
    "collapsed": false,
    "pycharm": {
     "name": "#%%\n"
    }
   }
  },
  {
   "cell_type": "code",
   "execution_count": 10,
   "outputs": [
    {
     "name": "stdout",
     "output_type": "stream",
     "text": [
      "b: [[0 0 0 ... 0 0 0]\n",
      " [0 0 0 ... 0 0 0]\n",
      " [0 0 0 ... 0 0 0]\n",
      " ...\n",
      " [0 0 0 ... 0 0 0]\n",
      " [0 0 0 ... 0 0 0]\n",
      " [0 0 0 ... 0 0 0]]\n"
     ]
    },
    {
     "ename": "AttributeError",
     "evalue": "module 'cv2' has no attribute 'destoryAllWindows'",
     "output_type": "error",
     "traceback": [
      "\u001B[1;31m---------------------------------------------------------------------------\u001B[0m",
      "\u001B[1;31mAttributeError\u001B[0m                            Traceback (most recent call last)",
      "Input \u001B[1;32mIn [10]\u001B[0m, in \u001B[0;36m<cell line: 21>\u001B[1;34m()\u001B[0m\n\u001B[0;32m     18\u001B[0m cv2\u001B[38;5;241m.\u001B[39mimshow(\u001B[38;5;124m'\u001B[39m\u001B[38;5;124mimg2\u001B[39m\u001B[38;5;124m'\u001B[39m,np\u001B[38;5;241m.\u001B[39mhstack((img,img2)))\n\u001B[0;32m     20\u001B[0m cv2\u001B[38;5;241m.\u001B[39mwaitKey(\u001B[38;5;241m0\u001B[39m)\n\u001B[1;32m---> 21\u001B[0m \u001B[43mcv2\u001B[49m\u001B[38;5;241;43m.\u001B[39;49m\u001B[43mdestoryAllWindows\u001B[49m()\n",
      "\u001B[1;31mAttributeError\u001B[0m: module 'cv2' has no attribute 'destoryAllWindows'"
     ]
    }
   ],
   "source": [
    "# 图像的分割与融合\n",
    "import cv2\n",
    "import numpy as np\n",
    "\n",
    "img = np.zeros((200,200,3),np.uint8)\n",
    "\n",
    "# 分割通道\n",
    "b,g,r = cv2.split(img)      # 分别用三个变量接收\n",
    "print('b:',b)\n",
    "# 修改一些颜色\n",
    "b[10:100,10:100] = 255\n",
    "g[10:100,10:100] = 255\n",
    "\n",
    "# 合并通道\n",
    "img2 = cv2.merge((b,g,r))\n",
    "\n",
    "cv2.imshow('img',np.hstack((b,g)))\n",
    "cv2.imshow('img2',np.hstack((img,img2)))\n",
    "\n",
    "cv2.waitKey(0)\n",
    "cv2.destoryAllWindows()"
   ],
   "metadata": {
    "collapsed": false,
    "pycharm": {
     "name": "#%%\n"
    }
   }
  },
  {
   "cell_type": "markdown",
   "source": [
    "# 绘制图片\n",
    "利用OpenCV 提供的绘制图形 API 可以在图像上绘制各种图形，比如直线、矩形、圆等图形"
   ],
   "metadata": {
    "collapsed": false,
    "pycharm": {
     "name": "#%% md\n"
    }
   }
  },
  {
   "cell_type": "code",
   "execution_count": 15,
   "outputs": [],
   "source": [
    "# 绘制直线和矩形\n",
    "import cv2\n",
    "import numpy as np\n",
    "\n",
    "# 创建纯黑的背景图用来画图形\n",
    "img = np.zeros((480,640,3),np.uint8)\n",
    "\n",
    "# Line(img,pt1,pt2,color,thickness,lineType,shift) 画直线 pt1、pt2、color 为元组,lineType省略\n",
    "cv2.line(img,(10,20),(400,20),(0,0,255),5,4)\n",
    "cv2.line(img,(80,100),(380,480),(0,0,255),5,16)\n",
    "\n",
    "# 和画线是完全完全一致的\n",
    "cv2.rectangle(img,(80,100),(380,480),(0,255,0),5,8)\n",
    "\n",
    "\n",
    "cv2.imshow('draw',img)\n",
    "cv2.waitKey(0)\n",
    "cv2.destroyAllWindows()"
   ],
   "metadata": {
    "collapsed": false,
    "pycharm": {
     "name": "#%%\n"
    }
   }
  },
  {
   "cell_type": "code",
   "execution_count": 14,
   "outputs": [],
   "source": [
    "# 绘制圆形\n",
    "import cv2\n",
    "import numpy as np\n",
    "\n",
    "img = np.zeros((480,640,3),np.uint8)\n",
    "\n",
    "# circle(img,center,radius,color[,thickness[,lineType[,shift]]]) 中括号内参数表示可选参数 ，画圆\n",
    "cv2.circle(img,(320,240),100,(0,0,255),5,16)\n",
    "\n",
    "cv2.imshow(\"draw\",img)\n",
    "cv2.waitKey(0)\n",
    "cv2.destroyAllWindows()"
   ],
   "metadata": {
    "collapsed": false,
    "pycharm": {
     "name": "#%%\n"
    }
   }
  },
  {
   "cell_type": "code",
   "execution_count": 6,
   "outputs": [],
   "source": [
    "# 绘制椭圆\n",
    "import cv2\n",
    "import numpy as np\n",
    "\n",
    "img = np.zeros((480,640,3),np.uint8)\n",
    "\n",
    "# ellipse(img,中心点，长宽的一半，角度 ，从哪个角度开始，从哪个角度结束,…)\n",
    "cv2.ellipse(img,(320,240),(100,50),45,0,180,[0,0,255],5,16)\n",
    "\n",
    "cv2.imshow(\"draw\",img)\n",
    "cv2.waitKey(0)\n",
    "cv2.destroyAllWindows()"
   ],
   "metadata": {
    "collapsed": false,
    "pycharm": {
     "name": "#%%\n"
    }
   }
  },
  {
   "cell_type": "code",
   "execution_count": 12,
   "outputs": [
    {
     "ename": "AttributeError",
     "evalue": "module 'cv2' has no attribute 'destroyAllWindow'",
     "output_type": "error",
     "traceback": [
      "\u001B[1;31m---------------------------------------------------------------------------\u001B[0m",
      "\u001B[1;31mAttributeError\u001B[0m                            Traceback (most recent call last)",
      "Input \u001B[1;32mIn [12]\u001B[0m, in \u001B[0;36m<cell line: 15>\u001B[1;34m()\u001B[0m\n\u001B[0;32m     13\u001B[0m cv2\u001B[38;5;241m.\u001B[39mimshow(\u001B[38;5;124m\"\u001B[39m\u001B[38;5;124mdraw\u001B[39m\u001B[38;5;124m\"\u001B[39m,img)\n\u001B[0;32m     14\u001B[0m cv2\u001B[38;5;241m.\u001B[39mwaitKey(\u001B[38;5;241m0\u001B[39m)\n\u001B[1;32m---> 15\u001B[0m \u001B[43mcv2\u001B[49m\u001B[38;5;241;43m.\u001B[39;49m\u001B[43mdestroyAllWindow\u001B[49m()\n",
      "\u001B[1;31mAttributeError\u001B[0m: module 'cv2' has no attribute 'destroyAllWindow'"
     ]
    }
   ],
   "source": [
    "# 绘制多边形\n",
    "import cv2\n",
    "import numpy as np\n",
    "\n",
    "img = np.zeros((480,640,3),np.uint8)\n",
    "\n",
    "# pts 的点集 必须是 int 32位\n",
    "pts = np. array([(250,100),(150,300),(50,280)],np.int32)\n",
    "# cv2.polylines(img,[pts],True,(0,0,255),5)       # checkVector 检查维度，pts是3维的集合，应返回元组\n",
    "\n",
    "cv2.fillPoly(img,[pts],(0,0,255))\n",
    "\n",
    "cv2.imshow(\"draw\",img)\n",
    "cv2.waitKey(0)\n",
    "cv2.destroyAllWindows()"
   ],
   "metadata": {
    "collapsed": false,
    "pycharm": {
     "name": "#%%\n"
    }
   }
  },
  {
   "cell_type": "code",
   "execution_count": 21,
   "outputs": [],
   "source": [
    "# 绘制文本信息\n",
    "import cv2\n",
    "import numpy as np\n",
    "\n",
    "img = np.zeros((480,640,3),np.uint8)\n",
    "\n",
    "# pts 的点集 必须是 int 32位\n",
    "pts = np. array([(250,100),(150,300),(50,280)],np.int32)\n",
    "\n",
    "# cv2.putText(img,'Hello OpenCV',(100,300),cv2.FONT_HERSHEY_SIMPLEX,4,(0,0,255) )\n",
    "cv2.putText(img,'你好 OpenCV',(100,300),cv2.FONT_HERSHEY_SIMPLEX,4,(0,0,255) )\n",
    "\n",
    "cv2.imshow(\"draw\",img)\n",
    "cv2.waitKey(0)\n",
    "cv2.destroyAllWindows()"
   ],
   "metadata": {
    "collapsed": false,
    "pycharm": {
     "name": "#%%\n"
    }
   }
  },
  {
   "cell_type": "code",
   "execution_count": 29,
   "outputs": [],
   "source": [
    "# 使用OpenCV 绘制中文\n",
    "# OpenCV 没有办法直接绘制中文，使用 Pillow 包\n",
    "from PIL import ImageFont,ImageDraw,Image\n",
    "\n",
    "# 纯白\n",
    "# img = np.full((500,500,3),fill_value=255,dtype=np.uint8)\n",
    "img = cv2.imread('./cat.jpg')\n",
    "\n",
    "# 导入字体文件\n",
    "font = ImageFont.truetype('./msyhbd.ttc',35)\n",
    "\n",
    "# 创建一个 pillow 的图片\n",
    "img_pil = Image.fromarray(img)\n",
    "\n",
    "draw = ImageDraw.Draw(img_pil)\n",
    "# 利用 draw 绘制中文\n",
    "draw.text((200,10),\"你好，OpenCV\",font=font,fill=(0,255,0,0))\n",
    "\n",
    "# 重新变回ndarray\n",
    "img = np.array(img_pil)\n",
    "\n",
    "cv2.imshow('img',img)\n",
    "\n",
    "cv2.waitKey(0)\n",
    "cv2.destroyAllWindows()"
   ],
   "metadata": {
    "collapsed": false,
    "pycharm": {
     "name": "#%%\n"
    }
   }
  }
 ],
 "metadata": {
  "kernelspec": {
   "display_name": "Python 3",
   "language": "python",
   "name": "python3"
  },
  "language_info": {
   "codemirror_mode": {
    "name": "ipython",
    "version": 2
   },
   "file_extension": ".py",
   "mimetype": "text/x-python",
   "name": "python",
   "nbconvert_exporter": "python",
   "pygments_lexer": "ipython2",
   "version": "2.7.6"
  }
 },
 "nbformat": 4,
 "nbformat_minor": 0
}