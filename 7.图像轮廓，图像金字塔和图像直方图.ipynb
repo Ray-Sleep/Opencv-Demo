{
 "cells": [
  {
   "cell_type": "markdown",
   "source": [
    "# 凸包"
   ],
   "metadata": {
    "collapsed": false,
    "pycharm": {
     "name": "#%% md\n"
    }
   }
  },
  {
   "cell_type": "code",
   "execution_count": 18,
   "metadata": {
    "collapsed": true,
    "pycharm": {
     "name": "#%%\n"
    }
   },
   "outputs": [],
   "source": [
    "import cv2\n",
    "import matplotlib.pyplot as plt\n",
    "import numpy as np\n",
    "\n",
    "img = cv2.imread('./hand.png')\n",
    "gray = cv2.imread('./hand.png',0)\n",
    "\n",
    "# 二值化\n",
    "thersh,binary = cv2.threshold(gray,150,255,cv2.THRESH_BINARY)\n",
    "\n",
    "contours , hierarchy = cv2.findContours(binary,cv2.RETR_TREE,cv2.CHAIN_APPROX_SIMPLE)\n",
    "\n",
    "cv2.drawContours(img,contours,0,(0,0,255),2)\n",
    "\n",
    "# 多边形逼近\n",
    "approx = cv2.approxPolyDP(contours[0],20,True)   # 阈值：20 ； 轮廓闭合：true\n",
    "\n",
    "# 画出多边形逼近的轮廓\n",
    "cv2.drawContours(img,[approx],0,(0,0,255),2)\n",
    "\n",
    "# 计算凸包\n",
    "hull = cv2.convexHull(contours[0])\n",
    "# 画出凸包\n",
    "cv2.drawContours(img,[hull],0,(0,255,0),2)\n",
    "\n",
    "cv2.imshow('img',img)\n",
    "cv2.waitKey(0)\n",
    "cv2.destroyAllWindows()"
   ]
  },
  {
   "cell_type": "markdown",
   "source": [
    "# 外接矩形"
   ],
   "metadata": {
    "collapsed": false,
    "pycharm": {
     "name": "#%% md\n"
    }
   }
  },
  {
   "cell_type": "code",
   "execution_count": 19,
   "outputs": [
    {
     "name": "stdout",
     "output_type": "stream",
     "text": [
      "[[ 51.01114 146.7587 ]\n",
      " [ 81.01865  52.67057]\n",
      " [616.5541  223.4689 ]\n",
      " [586.54663 317.55704]]\n"
     ]
    }
   ],
   "source": [
    "# 最小外接矩形\n",
    "import cv2\n",
    "import numpy as np\n",
    "\n",
    "img = cv2.imread('./Hello.png')\n",
    "gray = cv2.imread('./Hello.png',0)\n",
    "\n",
    "# 二值化\n",
    "thersh,binary = cv2.threshold(gray,150,255,cv2.THRESH_BINARY)\n",
    "# 查找轮廓\n",
    "contours , hierarchy = cv2.findContours(binary,cv2.RETR_TREE,cv2.CHAIN_APPROX_SIMPLE)\n",
    "\n",
    "# rect 是一个 Rotated Rect 旋转的矩形，矩形的起始坐标 (x,y) ，矩形的长宽，矩形的旋转角度\n",
    "rect = cv2.minAreaRect(contours[1])\n",
    "# print(rect)\n",
    "# boxPoints 帮助计算 旋转矩阵的 4个坐标点\n",
    "box = cv2.boxPoints(rect)\n",
    "print(box)\n",
    "# box = np.int0(box)\n",
    "# print(box)  # np.int0 方法直接丢掉小数，不是四舍五入\n",
    "# 四舍五入\n",
    "box = np.round(box).astype('int64')     # 先四舍五入，在修改数据类型\n",
    "cv2.drawContours(img,[box],0,(0,0,255),2)   # 报错：坐标为浮点数，所以需要转换为整形\n",
    "\n",
    "# 最大外接矩形 ，返回最大外接矩形的参数，(x,y),(w,h)\n",
    "x,y,w,h = cv2.boundingRect(contours[1])\n",
    "cv2.rectangle(img,(x,y),(x+w,y+h),(255,0,0),2)\n",
    "\n",
    "cv2.imshow('img',img)\n",
    "cv2.waitKey(0)\n",
    "cv2.destroyAllWindows()"
   ],
   "metadata": {
    "collapsed": false,
    "pycharm": {
     "name": "#%%\n"
    }
   }
  },
  {
   "cell_type": "markdown",
   "source": [
    "# 图像金字塔-高斯金字塔"
   ],
   "metadata": {
    "collapsed": false,
    "pycharm": {
     "name": "#%% md\n"
    }
   }
  },
  {
   "cell_type": "code",
   "execution_count": 24,
   "outputs": [
    {
     "name": "stdout",
     "output_type": "stream",
     "text": [
      "(512, 512, 3)\n",
      "(256, 256, 3)\n"
     ]
    }
   ],
   "source": [
    "import cv2\n",
    "import numpy as np\n",
    "\n",
    "img = cv2.imread('./lena.png')\n",
    "\n",
    "# 向下采样\n",
    "print(img.shape)\n",
    "# 分辨率减小的操作\n",
    "dst = cv2.pyrDown(img)\n",
    "print(dst.shape)\n",
    "\n",
    "# 向上采样\n",
    "dst1 = cv2.pyrUp(dst)\n",
    "\n",
    "cv2.imshow('img',img)\n",
    "cv2.imshow('dstDown',dst)\n",
    "cv2.imshow('dstUp',dst1)\n",
    "cv2.waitKey(0)\n",
    "cv2.destroyAllWindows()"
   ],
   "metadata": {
    "collapsed": false,
    "pycharm": {
     "name": "#%%\n"
    }
   }
  },
  {
   "cell_type": "markdown",
   "source": [
    "# 拉普拉斯金字塔"
   ],
   "metadata": {
    "collapsed": false,
    "pycharm": {
     "name": "#%% md\n"
    }
   }
  },
  {
   "cell_type": "code",
   "execution_count": 26,
   "outputs": [],
   "source": [
    "import cv2\n",
    "import numpy as np\n",
    "\n",
    "img = cv2.imread('./lena.png')\n",
    "\n",
    "# 先缩小\n",
    "dst = cv2.pyrDown(img)\n",
    "\n",
    "# 再放大\n",
    "dst  = cv2.pyrUp(dst)\n",
    "\n",
    "lap0 = img - dst\n",
    "\n",
    "cv2.imshow('img',img)\n",
    "cv2.imshow('lap0',lap0)\n",
    "cv2.waitKey(0)\n",
    "cv2.destroyAllWindows()"
   ],
   "metadata": {
    "collapsed": false,
    "pycharm": {
     "name": "#%%\n"
    }
   }
  },
  {
   "cell_type": "markdown",
   "source": [
    "# 使用OpenCV 统计直方图"
   ],
   "metadata": {
    "collapsed": false,
    "pycharm": {
     "name": "#%% md\n"
    }
   }
  },
  {
   "cell_type": "code",
   "execution_count": 1,
   "outputs": [
    {
     "name": "stdout",
     "output_type": "stream",
     "text": [
      "[[0.000e+00]\n",
      " [0.000e+00]\n",
      " [0.000e+00]\n",
      " [0.000e+00]\n",
      " [0.000e+00]\n",
      " [0.000e+00]\n",
      " [0.000e+00]\n",
      " [0.000e+00]\n",
      " [7.000e+00]\n",
      " [0.000e+00]\n",
      " [0.000e+00]\n",
      " [0.000e+00]\n",
      " [1.000e+00]\n",
      " [0.000e+00]\n",
      " [0.000e+00]\n",
      " [0.000e+00]\n",
      " [0.000e+00]\n",
      " [0.000e+00]\n",
      " [0.000e+00]\n",
      " [0.000e+00]\n",
      " [0.000e+00]\n",
      " [0.000e+00]\n",
      " [0.000e+00]\n",
      " [0.000e+00]\n",
      " [0.000e+00]\n",
      " [0.000e+00]\n",
      " [0.000e+00]\n",
      " [0.000e+00]\n",
      " [0.000e+00]\n",
      " [0.000e+00]\n",
      " [0.000e+00]\n",
      " [0.000e+00]\n",
      " [0.000e+00]\n",
      " [0.000e+00]\n",
      " [0.000e+00]\n",
      " [0.000e+00]\n",
      " [0.000e+00]\n",
      " [0.000e+00]\n",
      " [0.000e+00]\n",
      " [0.000e+00]\n",
      " [0.000e+00]\n",
      " [3.000e+00]\n",
      " [2.000e+00]\n",
      " [7.000e+00]\n",
      " [1.400e+01]\n",
      " [2.400e+01]\n",
      " [4.600e+01]\n",
      " [6.700e+01]\n",
      " [1.080e+02]\n",
      " [1.370e+02]\n",
      " [2.540e+02]\n",
      " [3.470e+02]\n",
      " [4.830e+02]\n",
      " [6.260e+02]\n",
      " [7.850e+02]\n",
      " [1.135e+03]\n",
      " [1.262e+03]\n",
      " [1.631e+03]\n",
      " [1.756e+03]\n",
      " [2.201e+03]\n",
      " [2.355e+03]\n",
      " [2.514e+03]\n",
      " [2.767e+03]\n",
      " [2.943e+03]\n",
      " [2.958e+03]\n",
      " [2.921e+03]\n",
      " [2.876e+03]\n",
      " [2.907e+03]\n",
      " [2.869e+03]\n",
      " [2.873e+03]\n",
      " [2.899e+03]\n",
      " [3.043e+03]\n",
      " [2.919e+03]\n",
      " [3.041e+03]\n",
      " [3.107e+03]\n",
      " [3.238e+03]\n",
      " [3.224e+03]\n",
      " [3.140e+03]\n",
      " [3.218e+03]\n",
      " [3.189e+03]\n",
      " [3.004e+03]\n",
      " [3.030e+03]\n",
      " [3.078e+03]\n",
      " [3.008e+03]\n",
      " [2.787e+03]\n",
      " [2.834e+03]\n",
      " [2.960e+03]\n",
      " [2.962e+03]\n",
      " [2.940e+03]\n",
      " [2.911e+03]\n",
      " [2.949e+03]\n",
      " [3.107e+03]\n",
      " [2.983e+03]\n",
      " [2.922e+03]\n",
      " [3.045e+03]\n",
      " [3.017e+03]\n",
      " [2.738e+03]\n",
      " [2.826e+03]\n",
      " [2.700e+03]\n",
      " [2.818e+03]\n",
      " [2.710e+03]\n",
      " [2.618e+03]\n",
      " [2.559e+03]\n",
      " [2.777e+03]\n",
      " [2.611e+03]\n",
      " [2.643e+03]\n",
      " [2.597e+03]\n",
      " [2.582e+03]\n",
      " [2.622e+03]\n",
      " [2.560e+03]\n",
      " [2.538e+03]\n",
      " [2.558e+03]\n",
      " [2.531e+03]\n",
      " [2.517e+03]\n",
      " [2.660e+03]\n",
      " [2.641e+03]\n",
      " [2.756e+03]\n",
      " [2.867e+03]\n",
      " [2.872e+03]\n",
      " [3.066e+03]\n",
      " [2.912e+03]\n",
      " [3.011e+03]\n",
      " [2.813e+03]\n",
      " [2.909e+03]\n",
      " [2.780e+03]\n",
      " [2.745e+03]\n",
      " [2.527e+03]\n",
      " [2.097e+03]\n",
      " [2.202e+03]\n",
      " [1.984e+03]\n",
      " [1.854e+03]\n",
      " [1.756e+03]\n",
      " [1.499e+03]\n",
      " [1.331e+03]\n",
      " [1.237e+03]\n",
      " [1.146e+03]\n",
      " [1.027e+03]\n",
      " [1.015e+03]\n",
      " [8.740e+02]\n",
      " [9.050e+02]\n",
      " [8.390e+02]\n",
      " [8.660e+02]\n",
      " [8.080e+02]\n",
      " [8.490e+02]\n",
      " [8.010e+02]\n",
      " [8.700e+02]\n",
      " [7.910e+02]\n",
      " [8.010e+02]\n",
      " [7.960e+02]\n",
      " [7.700e+02]\n",
      " [7.570e+02]\n",
      " [8.890e+02]\n",
      " [8.380e+02]\n",
      " [8.630e+02]\n",
      " [9.140e+02]\n",
      " [8.680e+02]\n",
      " [8.440e+02]\n",
      " [8.800e+02]\n",
      " [9.670e+02]\n",
      " [9.720e+02]\n",
      " [8.370e+02]\n",
      " [9.240e+02]\n",
      " [9.010e+02]\n",
      " [9.240e+02]\n",
      " [8.300e+02]\n",
      " [8.090e+02]\n",
      " [8.190e+02]\n",
      " [8.970e+02]\n",
      " [7.970e+02]\n",
      " [8.020e+02]\n",
      " [7.970e+02]\n",
      " [7.840e+02]\n",
      " [7.460e+02]\n",
      " [7.210e+02]\n",
      " [7.250e+02]\n",
      " [6.730e+02]\n",
      " [6.740e+02]\n",
      " [6.290e+02]\n",
      " [6.330e+02]\n",
      " [6.410e+02]\n",
      " [6.320e+02]\n",
      " [6.520e+02]\n",
      " [5.800e+02]\n",
      " [5.990e+02]\n",
      " [5.750e+02]\n",
      " [5.830e+02]\n",
      " [5.800e+02]\n",
      " [5.110e+02]\n",
      " [5.250e+02]\n",
      " [4.710e+02]\n",
      " [4.210e+02]\n",
      " [3.930e+02]\n",
      " [2.970e+02]\n",
      " [3.300e+02]\n",
      " [2.740e+02]\n",
      " [2.190e+02]\n",
      " [1.910e+02]\n",
      " [1.830e+02]\n",
      " [1.660e+02]\n",
      " [1.520e+02]\n",
      " [1.090e+02]\n",
      " [1.080e+02]\n",
      " [7.500e+01]\n",
      " [9.100e+01]\n",
      " [6.700e+01]\n",
      " [6.700e+01]\n",
      " [6.100e+01]\n",
      " [5.600e+01]\n",
      " [3.700e+01]\n",
      " [3.000e+01]\n",
      " [2.700e+01]\n",
      " [2.300e+01]\n",
      " [1.900e+01]\n",
      " [2.400e+01]\n",
      " [1.800e+01]\n",
      " [8.000e+00]\n",
      " [7.000e+00]\n",
      " [4.000e+00]\n",
      " [2.000e+00]\n",
      " [1.000e+00]\n",
      " [0.000e+00]\n",
      " [0.000e+00]\n",
      " [0.000e+00]\n",
      " [3.000e+00]\n",
      " [1.000e+00]\n",
      " [1.000e+00]\n",
      " [0.000e+00]\n",
      " [0.000e+00]\n",
      " [0.000e+00]\n",
      " [0.000e+00]\n",
      " [0.000e+00]\n",
      " [0.000e+00]\n",
      " [0.000e+00]\n",
      " [0.000e+00]\n",
      " [0.000e+00]\n",
      " [0.000e+00]\n",
      " [0.000e+00]\n",
      " [0.000e+00]\n",
      " [0.000e+00]\n",
      " [0.000e+00]\n",
      " [0.000e+00]\n",
      " [0.000e+00]\n",
      " [0.000e+00]\n",
      " [0.000e+00]\n",
      " [0.000e+00]\n",
      " [0.000e+00]\n",
      " [0.000e+00]\n",
      " [0.000e+00]\n",
      " [0.000e+00]\n",
      " [0.000e+00]\n",
      " [0.000e+00]\n",
      " [0.000e+00]\n",
      " [0.000e+00]\n",
      " [0.000e+00]\n",
      " [0.000e+00]\n",
      " [0.000e+00]]\n",
      "256\n"
     ]
    }
   ],
   "source": [
    "import cv2\n",
    "import numpy as np\n",
    "\n",
    "img = cv2.imread('./lena.png')\n",
    "\n",
    "hist = cv2.calcHist([img],[0],None,[256],[0,255])\n",
    "print(hist)\n",
    "print(hist.size)"
   ],
   "metadata": {
    "collapsed": false,
    "pycharm": {
     "name": "#%%\n"
    }
   }
  },
  {
   "cell_type": "code",
   "execution_count": 5,
   "outputs": [
    {
     "data": {
      "text/plain": "(array([0.000e+00, 0.000e+00, 0.000e+00, 0.000e+00, 0.000e+00, 0.000e+00,\n        0.000e+00, 0.000e+00, 0.000e+00, 0.000e+00, 0.000e+00, 0.000e+00,\n        0.000e+00, 0.000e+00, 0.000e+00, 0.000e+00, 0.000e+00, 0.000e+00,\n        0.000e+00, 0.000e+00, 0.000e+00, 0.000e+00, 0.000e+00, 0.000e+00,\n        0.000e+00, 0.000e+00, 0.000e+00, 0.000e+00, 0.000e+00, 0.000e+00,\n        0.000e+00, 0.000e+00, 0.000e+00, 0.000e+00, 0.000e+00, 0.000e+00,\n        0.000e+00, 0.000e+00, 0.000e+00, 4.500e+01, 0.000e+00, 0.000e+00,\n        0.000e+00, 3.880e+02, 0.000e+00, 0.000e+00, 1.171e+03, 0.000e+00,\n        0.000e+00, 0.000e+00, 2.211e+03, 0.000e+00, 0.000e+00, 3.583e+03,\n        0.000e+00, 0.000e+00, 5.472e+03, 0.000e+00, 0.000e+00, 6.460e+03,\n        0.000e+00, 5.922e+03, 0.000e+00, 0.000e+00, 5.104e+03, 0.000e+00,\n        4.325e+03, 0.000e+00, 3.100e+03, 0.000e+00, 2.479e+03, 0.000e+00,\n        2.093e+03, 0.000e+00, 1.730e+03, 0.000e+00, 1.566e+03, 0.000e+00,\n        1.469e+03, 0.000e+00, 1.377e+03, 0.000e+00, 1.345e+03, 0.000e+00,\n        1.335e+03, 1.367e+03, 0.000e+00, 1.416e+03, 0.000e+00, 1.479e+03,\n        1.468e+03, 0.000e+00, 1.465e+03, 1.438e+03, 0.000e+00, 1.328e+03,\n        1.431e+03, 0.000e+00, 1.465e+03, 1.504e+03, 0.000e+00, 1.522e+03,\n        1.564e+03, 1.605e+03, 0.000e+00, 1.674e+03, 1.604e+03, 1.741e+03,\n        0.000e+00, 1.774e+03, 2.021e+03, 2.398e+03, 2.598e+03, 0.000e+00,\n        2.673e+03, 2.588e+03, 2.403e+03, 2.126e+03, 2.027e+03, 1.730e+03,\n        1.676e+03, 0.000e+00, 1.554e+03, 1.522e+03, 1.510e+03, 1.529e+03,\n        1.579e+03, 1.536e+03, 1.603e+03, 1.542e+03, 1.719e+03, 1.795e+03,\n        1.851e+03, 1.796e+03, 1.919e+03, 1.916e+03, 2.022e+03, 2.198e+03,\n        2.409e+03, 2.650e+03, 2.626e+03, 2.629e+03, 2.685e+03, 2.411e+03,\n        4.435e+03, 1.980e+03, 1.930e+03, 1.925e+03, 1.939e+03, 2.058e+03,\n        2.237e+03, 4.821e+03, 2.411e+03, 2.506e+03, 2.411e+03, 2.507e+03,\n        4.627e+03, 2.240e+03, 2.277e+03, 2.346e+03, 4.692e+03, 2.352e+03,\n        2.221e+03, 2.278e+03, 4.174e+03, 1.798e+03, 1.729e+03, 2.888e+03,\n        1.316e+03, 1.285e+03, 2.222e+03, 1.066e+03, 1.035e+03, 1.955e+03,\n        1.012e+03, 1.883e+03, 9.410e+02, 9.980e+02, 1.969e+03, 9.900e+02,\n        1.979e+03, 9.710e+02, 1.816e+03, 8.360e+02, 1.502e+03, 6.510e+02,\n        1.097e+03, 5.380e+02, 1.020e+03, 4.870e+02, 8.860e+02, 4.580e+02,\n        1.036e+03, 5.320e+02, 1.093e+03, 1.145e+03, 5.950e+02, 1.227e+03,\n        6.280e+02, 1.176e+03, 1.129e+03, 5.950e+02, 1.098e+03, 1.009e+03,\n        5.270e+02, 9.990e+02, 1.066e+03, 1.124e+03, 6.160e+02, 1.249e+03,\n        1.236e+03, 5.980e+02, 1.139e+03, 1.145e+03, 9.470e+02, 8.350e+02,\n        3.190e+02, 5.670e+02, 4.520e+02, 4.110e+02, 3.640e+02, 2.960e+02,\n        1.420e+02, 2.250e+02, 2.130e+02, 1.330e+02, 9.400e+01, 5.900e+01,\n        5.600e+01, 4.100e+01, 2.800e+01, 1.400e+01, 1.000e+01, 6.000e+00,\n        8.000e+00, 0.000e+00, 1.000e+00, 0.000e+00, 1.000e+00, 0.000e+00,\n        0.000e+00, 0.000e+00, 2.000e+00, 0.000e+00, 0.000e+00, 2.000e+00,\n        0.000e+00, 0.000e+00, 0.000e+00, 0.000e+00, 0.000e+00, 0.000e+00,\n        0.000e+00, 0.000e+00, 0.000e+00, 0.000e+00]),\n array([  0.        ,   0.99609375,   1.9921875 ,   2.98828125,\n          3.984375  ,   4.98046875,   5.9765625 ,   6.97265625,\n          7.96875   ,   8.96484375,   9.9609375 ,  10.95703125,\n         11.953125  ,  12.94921875,  13.9453125 ,  14.94140625,\n         15.9375    ,  16.93359375,  17.9296875 ,  18.92578125,\n         19.921875  ,  20.91796875,  21.9140625 ,  22.91015625,\n         23.90625   ,  24.90234375,  25.8984375 ,  26.89453125,\n         27.890625  ,  28.88671875,  29.8828125 ,  30.87890625,\n         31.875     ,  32.87109375,  33.8671875 ,  34.86328125,\n         35.859375  ,  36.85546875,  37.8515625 ,  38.84765625,\n         39.84375   ,  40.83984375,  41.8359375 ,  42.83203125,\n         43.828125  ,  44.82421875,  45.8203125 ,  46.81640625,\n         47.8125    ,  48.80859375,  49.8046875 ,  50.80078125,\n         51.796875  ,  52.79296875,  53.7890625 ,  54.78515625,\n         55.78125   ,  56.77734375,  57.7734375 ,  58.76953125,\n         59.765625  ,  60.76171875,  61.7578125 ,  62.75390625,\n         63.75      ,  64.74609375,  65.7421875 ,  66.73828125,\n         67.734375  ,  68.73046875,  69.7265625 ,  70.72265625,\n         71.71875   ,  72.71484375,  73.7109375 ,  74.70703125,\n         75.703125  ,  76.69921875,  77.6953125 ,  78.69140625,\n         79.6875    ,  80.68359375,  81.6796875 ,  82.67578125,\n         83.671875  ,  84.66796875,  85.6640625 ,  86.66015625,\n         87.65625   ,  88.65234375,  89.6484375 ,  90.64453125,\n         91.640625  ,  92.63671875,  93.6328125 ,  94.62890625,\n         95.625     ,  96.62109375,  97.6171875 ,  98.61328125,\n         99.609375  , 100.60546875, 101.6015625 , 102.59765625,\n        103.59375   , 104.58984375, 105.5859375 , 106.58203125,\n        107.578125  , 108.57421875, 109.5703125 , 110.56640625,\n        111.5625    , 112.55859375, 113.5546875 , 114.55078125,\n        115.546875  , 116.54296875, 117.5390625 , 118.53515625,\n        119.53125   , 120.52734375, 121.5234375 , 122.51953125,\n        123.515625  , 124.51171875, 125.5078125 , 126.50390625,\n        127.5       , 128.49609375, 129.4921875 , 130.48828125,\n        131.484375  , 132.48046875, 133.4765625 , 134.47265625,\n        135.46875   , 136.46484375, 137.4609375 , 138.45703125,\n        139.453125  , 140.44921875, 141.4453125 , 142.44140625,\n        143.4375    , 144.43359375, 145.4296875 , 146.42578125,\n        147.421875  , 148.41796875, 149.4140625 , 150.41015625,\n        151.40625   , 152.40234375, 153.3984375 , 154.39453125,\n        155.390625  , 156.38671875, 157.3828125 , 158.37890625,\n        159.375     , 160.37109375, 161.3671875 , 162.36328125,\n        163.359375  , 164.35546875, 165.3515625 , 166.34765625,\n        167.34375   , 168.33984375, 169.3359375 , 170.33203125,\n        171.328125  , 172.32421875, 173.3203125 , 174.31640625,\n        175.3125    , 176.30859375, 177.3046875 , 178.30078125,\n        179.296875  , 180.29296875, 181.2890625 , 182.28515625,\n        183.28125   , 184.27734375, 185.2734375 , 186.26953125,\n        187.265625  , 188.26171875, 189.2578125 , 190.25390625,\n        191.25      , 192.24609375, 193.2421875 , 194.23828125,\n        195.234375  , 196.23046875, 197.2265625 , 198.22265625,\n        199.21875   , 200.21484375, 201.2109375 , 202.20703125,\n        203.203125  , 204.19921875, 205.1953125 , 206.19140625,\n        207.1875    , 208.18359375, 209.1796875 , 210.17578125,\n        211.171875  , 212.16796875, 213.1640625 , 214.16015625,\n        215.15625   , 216.15234375, 217.1484375 , 218.14453125,\n        219.140625  , 220.13671875, 221.1328125 , 222.12890625,\n        223.125     , 224.12109375, 225.1171875 , 226.11328125,\n        227.109375  , 228.10546875, 229.1015625 , 230.09765625,\n        231.09375   , 232.08984375, 233.0859375 , 234.08203125,\n        235.078125  , 236.07421875, 237.0703125 , 238.06640625,\n        239.0625    , 240.05859375, 241.0546875 , 242.05078125,\n        243.046875  , 244.04296875, 245.0390625 , 246.03515625,\n        247.03125   , 248.02734375, 249.0234375 , 250.01953125,\n        251.015625  , 252.01171875, 253.0078125 , 254.00390625,\n        255.        ]),\n <BarContainer object of 256 artists>)"
     },
     "execution_count": 5,
     "metadata": {},
     "output_type": "execute_result"
    },
    {
     "data": {
      "text/plain": "<Figure size 432x288 with 1 Axes>",
      "image/png": "[encoded data removed]"
     },
     "metadata": {
      "needs_background": "light"
     },
     "output_type": "display_data"
    }
   ],
   "source": [
    "# 绘制直方图\n",
    "import cv2\n",
    "import numpy as np\n",
    "import matplotlib.pyplot as plt\n",
    "\n",
    "# 不用OpenCV 的统计方法\n",
    "img = cv2.imread('./lena.png')\n",
    "\n",
    "gray = cv2.imread('./lena.png',0)\n",
    "\n",
    "# 统计直方数据\n",
    "\"\"\"\n",
    "    ravel() 方法，将图像变成一维\n",
    "\"\"\"\n",
    "plt.hist(gray.ravel(),bins=256,range=[0,255])"
   ],
   "metadata": {
    "collapsed": false,
    "pycharm": {
     "name": "#%%\n"
    }
   }
  },
  {
   "cell_type": "code",
   "execution_count": 9,
   "outputs": [
    {
     "data": {
      "text/plain": "<Figure size 432x288 with 1 Axes>",
      "image/png": "[encoded data removed]"
     },
     "metadata": {
      "needs_background": "light"
     },
     "output_type": "display_data"
    }
   ],
   "source": [
    "import cv2\n",
    "import numpy as np\n",
    "import matplotlib.pyplot as plt\n",
    "\n",
    "img = cv2.imread('./lena.png')\n",
    "\n",
    "# 统计直方数据\n",
    "histb = cv2.calcHist([img],[0],None,[255],[0,256])\n",
    "histg = cv2.calcHist([img],[1],None,[255],[0,256])\n",
    "histr = cv2.calcHist([img],[2],None,[255],[0,256])\n",
    "\n",
    "plt.plot(histb,color='b',label='blue')\n",
    "plt.plot(histg,color='g',label='green')\n",
    "plt.plot(histr,color='r',label='red')\n",
    "\n",
    "plt.legend()\n",
    "plt.show()"
   ],
   "metadata": {
    "collapsed": false,
    "pycharm": {
     "name": "#%%\n"
    }
   }
  },
  {
   "cell_type": "markdown",
   "source": [
    "# 使用掩膜直方图"
   ],
   "metadata": {
    "collapsed": false,
    "pycharm": {
     "name": "#%% md\n"
    }
   }
  },
  {
   "cell_type": "code",
   "execution_count": 15,
   "outputs": [
    {
     "data": {
      "text/plain": "<Figure size 432x288 with 1 Axes>",
      "image/png": "[encoded data removed]"
     },
     "metadata": {
      "needs_background": "light"
     },
     "output_type": "display_data"
    }
   ],
   "source": [
    "import cv2\n",
    "import numpy as np\n",
    "import matplotlib.pyplot as plt\n",
    "\n",
    "img = cv2.imread('./lena.png')\n",
    "gray = cv2.imread('./lena.png',0)\n",
    "\n",
    "# 生成掩膜图像\n",
    "mask = np.zeros(gray.shape,np.uint8)\n",
    "\n",
    "# 设置想要统计直方图的区域\n",
    "mask[200:400,200:400] = 255\n",
    "\n",
    "hist_mask = cv2.calcHist([gray],[0],mask,[256],[0,255])\n",
    "hist_gray = cv2.calcHist([gray],[0],None,[256],[0,255])\n",
    "\n",
    "plt.plot(hist_mask,label='mask')\n",
    "plt.plot(hist_gray,label='gray')\n",
    "plt.legend()\n",
    "\n",
    "cv2.imshow('lena',img)\n",
    "cv2.imshow('mask',mask)\n",
    "# gray 与 gray 做与运输，结果还是gray，mask的作用，就是 gray 和 gray 先做与运算，结果再和mask做与运算\n",
    "cv2.imshow('mask_gray',cv2.bitwise_and(gray,gray,mask=mask))\n",
    "\n",
    "cv2.waitKey(0)\n",
    "cv2.destroyAllWindows()"
   ],
   "metadata": {
    "collapsed": false,
    "pycharm": {
     "name": "#%%\n"
    }
   }
  }
 ],
 "metadata": {
  "kernelspec": {
   "display_name": "Python 3",
   "language": "python",
   "name": "python3"
  },
  "language_info": {
   "codemirror_mode": {
    "name": "ipython",
    "version": 2
   },
   "file_extension": ".py",
   "mimetype": "text/x-python",
   "name": "python",
   "nbconvert_exporter": "python",
   "pygments_lexer": "ipython2",
   "version": "2.7.6"
  }
 },
 "nbformat": 4,
 "nbformat_minor": 0
}