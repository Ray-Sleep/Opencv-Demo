{
 "cells": [
  {
   "cell_type": "markdown",
   "source": [
    "### 窗口的创建 与 销毁"
   ],
   "metadata": {
    "collapsed": false,
    "pycharm": {
     "name": "#%% md\n"
    }
   }
  },
  {
   "cell_type": "code",
   "execution_count": 2,
   "outputs": [],
   "source": [
    "# opencv名字叫做 opencv ，但是导包的时候叫做 cv2\n",
    "import cv2"
   ],
   "metadata": {
    "collapsed": false,
    "pycharm": {
     "name": "#%%\n"
    }
   }
  },
  {
   "cell_type": "code",
   "execution_count": 5,
   "outputs": [],
   "source": [
    "# python 函数编码规范，单词首字母小写，单词于单词之间用下划线连接，wait_key\n",
    "# C/C++ 小驼峰规范"
   ],
   "metadata": {
    "collapsed": false,
    "pycharm": {
     "name": "#%%\n"
    }
   }
  },
  {
   "cell_type": "code",
   "execution_count": 3,
   "outputs": [],
   "source": [
    "\n",
    "# 创建窗口\n",
    "# cv2.WINDOW_AUTOSIZE 不允许修改窗口大小\n",
    "# cv2.namedWindow('window',cv2.WINDOW_AUTOSIZE)\n",
    "cv2.namedWindow('window',cv2.WINDOW_NORMAL)\n",
    "# 更改窗口的大小\n",
    "cv2.resizeWindow('window',800,600)\n",
    "# 展示名字为window的窗口\n",
    "cv2.imshow('window',0)\n",
    "\n",
    "# 等待按键\n",
    "# waitKey 会返回按键的 ascii 的值\n",
    "# 0表示接受任意按键，如果给其他的整数，表示等待按键的时间，单位是毫秒\n",
    "# 可以利用waitkey 来销毁窗口，不用每次都重启 python\n",
    "key = cv2.waitKey(0)\n",
    "# key返回的数字是int，最少都是 16位的，但是 ascii码是 8 位的，相当于加了一个条件判断，取后八位再进行判断，所以 & 0xFF 经常出现\n",
    "if key & 0xFF == ord('q'):\n",
    "    print(\"准备销毁窗口\")\n",
    "    cv2.destroyAllWindows()"
   ],
   "metadata": {
    "collapsed": false,
    "pycharm": {
     "name": "#%%\n"
    }
   }
  },
  {
   "cell_type": "code",
   "execution_count": null,
   "outputs": [],
   "source": [
    "# 如何计算q 的 ascii 码\n",
    "# ord 是python 中计算 ascii 的值的函数\n",
    "ord('e')"
   ],
   "metadata": {
    "collapsed": false,
    "pycharm": {
     "name": "#%%\n"
    }
   }
  },
  {
   "cell_type": "markdown",
   "source": [
    "### 读取图片"
   ],
   "metadata": {
    "collapsed": false,
    "pycharm": {
     "name": "#%% md\n"
    }
   }
  },
  {
   "cell_type": "code",
   "execution_count": null,
   "outputs": [],
   "source": [
    "import matplotlib.pyplot as plt"
   ],
   "metadata": {
    "collapsed": false,
    "pycharm": {
     "name": "#%%\n"
    }
   }
  },
  {
   "cell_type": "code",
   "execution_count": null,
   "outputs": [],
   "source": [
    "# 默认是按照彩色读取\n",
    "cat = cv2.imread('./cat.jpg')\n",
    "\n",
    "cat"
   ],
   "metadata": {
    "collapsed": false,
    "pycharm": {
     "name": "#%%\n"
    }
   }
  },
  {
   "cell_type": "code",
   "execution_count": null,
   "outputs": [],
   "source": [
    "cat.max()"
   ],
   "metadata": {
    "collapsed": false,
    "pycharm": {
     "name": "#%%\n"
    }
   }
  },
  {
   "cell_type": "code",
   "execution_count": null,
   "outputs": [],
   "source": [
    "# 发现matplotlib 显示的图片和真实的图片颜色不一样，因为 opencv 读进来的图片数据的通道不是默认的RGB；\n",
    "# 而是按照 BGR （蓝绿红）排列，所以一般 opencv 读进来的图片不要用其他 方式去展示，比如 matplotlib\n",
    "# 用 opencv 自己的方式去展示就没有问题\n",
    "plt.imshow(cat)"
   ],
   "metadata": {
    "collapsed": false,
    "pycharm": {
     "name": "#%%\n"
    }
   }
  },
  {
   "cell_type": "code",
   "execution_count": null,
   "outputs": [],
   "source": [
    "cv2.imshow('cat',cat)\n",
    "key = cv2.waitKey(0)\n",
    "if key & 0xFF == ord('q'):\n",
    "    print(\"准备销毁窗口\")\n",
    "    cv2.destroyAllWindows()"
   ],
   "metadata": {
    "collapsed": false,
    "pycharm": {
     "name": "#%%\n"
    }
   }
  },
  {
   "cell_type": "code",
   "execution_count": null,
   "outputs": [],
   "source": [
    "# 把展示图片的代码封装成函数，方便使用\n",
    "def cv_show(name,img):\n",
    "    cv2.imshow(name,img)\n",
    "    key = cv2.waitKey(0)\n",
    "    if key & 0xFF == ord('q'):\n",
    "        cv2.destroyAllWindows()"
   ],
   "metadata": {
    "collapsed": false,
    "pycharm": {
     "name": "#%%\n"
    }
   }
  },
  {
   "cell_type": "code",
   "execution_count": null,
   "outputs": [],
   "source": [
    "# 从外部py文件导入工具类\n",
    "from utils import cv_show"
   ],
   "metadata": {
    "collapsed": false,
    "pycharm": {
     "name": "#%%\n"
    }
   }
  },
  {
   "cell_type": "code",
   "execution_count": null,
   "outputs": [],
   "source": [
    "# 必须执行外部文件\n",
    "%run utils.py"
   ],
   "metadata": {
    "collapsed": false,
    "pycharm": {
     "name": "#%%\n"
    }
   }
  },
  {
   "cell_type": "code",
   "execution_count": null,
   "outputs": [],
   "source": [
    "cv_show('cat',cat)"
   ],
   "metadata": {
    "collapsed": false,
    "pycharm": {
     "name": "#%%\n"
    }
   }
  },
  {
   "cell_type": "markdown",
   "source": [
    "### 保存图片"
   ],
   "metadata": {
    "collapsed": false,
    "pycharm": {
     "name": "#%% md\n"
    }
   }
  },
  {
   "cell_type": "code",
   "execution_count": null,
   "outputs": [],
   "source": [
    "import cv2\n",
    "\n",
    "# 创建窗口\n",
    "cv2.namedWindow('img',cv2.WINDOW_NORMAL)\n",
    "cv2.resizeWindow('img',640,280)\n",
    "\n",
    "# 读取图片\n",
    "img = cv2.imread('./cat.jpg')\n",
    "\n",
    "while True:\n",
    "    cv2.imshow('img',img)\n",
    "    key = cv2.waitKey(0)\n",
    "\n",
    "    if key == ord('q'):\n",
    "        break\n",
    "    elif key == ord('s'):\n",
    "        cv2.imwrite('./123.png',img)\n",
    "    else:\n",
    "        print(key)\n",
    "cv2.destroyAllWindows()"
   ],
   "metadata": {
    "collapsed": false,
    "pycharm": {
     "name": "#%%\n"
    }
   }
  },
  {
   "cell_type": "markdown",
   "source": [
    "### 打开摄像头   ！常用"
   ],
   "metadata": {
    "collapsed": false,
    "pycharm": {
     "name": "#%% md\n"
    }
   }
  },
  {
   "cell_type": "code",
   "execution_count": 1,
   "outputs": [
    {
     "ename": "KeyboardInterrupt",
     "evalue": "",
     "output_type": "error",
     "traceback": [
      "\u001B[1;31m---------------------------------------------------------------------------\u001B[0m",
      "\u001B[1;31mKeyboardInterrupt\u001B[0m                         Traceback (most recent call last)",
      "Input \u001B[1;32mIn [1]\u001B[0m, in \u001B[0;36m<cell line: 12>\u001B[1;34m()\u001B[0m\n\u001B[0;32m     19\u001B[0m \u001B[38;5;66;03m# 显示数据\u001B[39;00m\n\u001B[0;32m     20\u001B[0m cv2\u001B[38;5;241m.\u001B[39mimshow(\u001B[38;5;124m'\u001B[39m\u001B[38;5;124mvideo\u001B[39m\u001B[38;5;124m'\u001B[39m,frame)\n\u001B[1;32m---> 22\u001B[0m key \u001B[38;5;241m=\u001B[39m \u001B[43mcv2\u001B[49m\u001B[38;5;241;43m.\u001B[39;49m\u001B[43mwaitKey\u001B[49m\u001B[43m(\u001B[49m\u001B[38;5;241;43m10\u001B[39;49m\u001B[43m)\u001B[49m\n\u001B[0;32m     23\u001B[0m \u001B[38;5;28;01mif\u001B[39;00m key \u001B[38;5;241m==\u001B[39m \u001B[38;5;28mord\u001B[39m(\u001B[38;5;124m'\u001B[39m\u001B[38;5;124mq\u001B[39m\u001B[38;5;124m'\u001B[39m):\n\u001B[0;32m     24\u001B[0m     \u001B[38;5;28;01mbreak\u001B[39;00m\n",
      "\u001B[1;31mKeyboardInterrupt\u001B[0m: "
     ]
    }
   ],
   "source": [
    "import cv2\n",
    "\n",
    "cv2.namedWindow('video',cv2.WINDOW_NORMAL)\n",
    "cv2.resizeWindow('video',640,480)\n",
    "\n",
    "# 如果打开失败，不会报错\n",
    "cap = cv2.VideoCapture(0)   # 类名首字母也会大写\n",
    "\n",
    "# 循环读取摄像头的每一帧\n",
    "while True:        # 判断摄像头是否打开成功\n",
    "    # 读一帧数据，返回标记和这一帧数据（图片），True 表示读到数据，False 表示没读到数据\n",
    "    ret,frame = cap.read()\n",
    "\n",
    "    # 根据 ret 做个判断\n",
    "    if not ret:\n",
    "        # 没得读到数据，直接退出\n",
    "        break\n",
    "\n",
    "    # 显示数据\n",
    "    cv2.imshow('video',frame)\n",
    "\n",
    "    key = cv2.waitKey(10)\n",
    "    if key == ord('q'):\n",
    "        break\n",
    "\n",
    "# 释放资源\n",
    "cap.release()\n",
    "cv2.destroyAllWindows()"
   ],
   "metadata": {
    "collapsed": false,
    "pycharm": {
     "name": "#%%\n"
    }
   }
  },
  {
   "cell_type": "markdown",
   "source": [
    "### 打开视频"
   ],
   "metadata": {
    "collapsed": false,
    "pycharm": {
     "name": "#%% md\n"
    }
   }
  },
  {
   "cell_type": "code",
   "execution_count": 1,
   "outputs": [
    {
     "ename": "KeyboardInterrupt",
     "evalue": "",
     "output_type": "error",
     "traceback": [
      "\u001B[1;31m---------------------------------------------------------------------------\u001B[0m",
      "\u001B[1;31mKeyboardInterrupt\u001B[0m                         Traceback (most recent call last)",
      "Input \u001B[1;32mIn [1]\u001B[0m, in \u001B[0;36m<cell line: 13>\u001B[1;34m()\u001B[0m\n\u001B[0;32m     21\u001B[0m cv2\u001B[38;5;241m.\u001B[39mimshow(\u001B[38;5;124m'\u001B[39m\u001B[38;5;124mvideo\u001B[39m\u001B[38;5;124m'\u001B[39m,frame)\n\u001B[0;32m     23\u001B[0m \u001B[38;5;66;03m# 每隔十毫秒 跳入下一帧图片\u001B[39;00m\n\u001B[0;32m     24\u001B[0m \u001B[38;5;66;03m# 假如一个视频是 30 帧，那么每张图 之间要间隔\u001B[39;00m\n\u001B[1;32m---> 25\u001B[0m key \u001B[38;5;241m=\u001B[39m \u001B[43mcv2\u001B[49m\u001B[38;5;241;43m.\u001B[39;49m\u001B[43mwaitKey\u001B[49m\u001B[43m(\u001B[49m\u001B[38;5;241;43m1000\u001B[39;49m\u001B[43m \u001B[49m\u001B[38;5;241;43m/\u001B[39;49m\u001B[38;5;241;43m/\u001B[39;49m\u001B[43m \u001B[49m\u001B[38;5;241;43m30\u001B[39;49m\u001B[43m)\u001B[49m       \u001B[38;5;66;03m# 只能是整形，向下取整\u001B[39;00m\n\u001B[0;32m     26\u001B[0m \u001B[38;5;28;01mif\u001B[39;00m key \u001B[38;5;241m==\u001B[39m \u001B[38;5;28mord\u001B[39m(\u001B[38;5;124m'\u001B[39m\u001B[38;5;124mq\u001B[39m\u001B[38;5;124m'\u001B[39m):\n\u001B[0;32m     27\u001B[0m     \u001B[38;5;28;01mbreak\u001B[39;00m\n",
      "\u001B[1;31mKeyboardInterrupt\u001B[0m: "
     ]
    }
   ],
   "source": [
    "import cv2\n",
    "\n",
    "cv2.namedWindow('video',cv2.WINDOW_NORMAL)\n",
    "cv2.resizeWindow('video',640,480)\n",
    "\n",
    "# 如果打开失败，不会报错\n",
    "# 打开视频，输入视频地址\n",
    "cap = cv2.VideoCapture('./taokouzi.mp4')   # 类名首字母也会大写\n",
    "\n",
    "# 循环读取摄像头的每一帧\n",
    "while True:        # 判断摄像头是否打开成功\n",
    "    # 读一帧数据，返回标记和这一帧数据（图片），True 表示读到数据，False 表示没读到数据\n",
    "    ret,frame = cap.read()\n",
    "\n",
    "    # 根据 ret 做个判断\n",
    "    if not ret:\n",
    "        # 没得读到数据，直接退出\n",
    "        break\n",
    "\n",
    "    # 显示数据\n",
    "    cv2.imshow('video',frame)\n",
    "\n",
    "    # 每隔十毫秒 跳入下一帧图片\n",
    "    # 假如一个视频是 30 帧，那么每张图 之间要间隔\n",
    "    key = cv2.waitKey(1000 // 30)       # 只能是整形，向下取整\n",
    "    if key == ord('q'):\n",
    "        break\n",
    "\n",
    "# 释放资源\n",
    "cap.release()\n",
    "cv2.destroyAllWindows()"
   ],
   "metadata": {
    "collapsed": false,
    "pycharm": {
     "name": "#%%\n"
    }
   }
  },
  {
   "cell_type": "markdown",
   "source": [
    "### 保存视频"
   ],
   "metadata": {
    "collapsed": false,
    "pycharm": {
     "name": "#%% md\n"
    }
   }
  },
  {
   "cell_type": "code",
   "execution_count": null,
   "outputs": [],
   "source": [
    "cap = cv2.VideoCapture(0)\n",
    "# *mp4v 就是解包操作，等同于 'm' 'p' '4' 'v'\n",
    "# fourcc = cv2.VideoWriter_fourcc(*'mp4v')\n",
    "fourcc = cv2.VideoWriter_fourcc(*'XVID')        # avi 的格式\n",
    "\n",
    "# 创建 videowriter\n",
    "# (640,480)表示摄像头拍视频，这个大小搞错了也不行\n",
    "# 主要是这个分辨率\n",
    "# vw = cv2.VideoWriter('output.mp4',fourcc,20,(640,480))\n",
    "vw = cv2.VideoWriter('output.avi',fourcc,20,(640,480))\n",
    "\n",
    "while cap.isOpened():\n",
    "    ret, frame = cap.read()\n",
    "    if not ret:\n",
    "        break\n",
    "\n",
    "    # 写入每一帧数据\n",
    "    vw.write(frame)\n",
    "    cv2.imshow('frame',frame)\n",
    "\n",
    "# 一毫秒一张图片\n",
    "    if cv2.waitKey(1) == ord('q'):\n",
    "        break\n",
    "\n",
    "# 释放资源\n",
    "cap.release()\n",
    "vw.release()\n",
    "cv2.destroyAllWindows()"
   ],
   "metadata": {
    "collapsed": false,
    "pycharm": {
     "name": "#%%\n"
    }
   }
  },
  {
   "cell_type": "markdown",
   "source": [
    "### opencv 控制鼠标"
   ],
   "metadata": {
    "collapsed": false,
    "pycharm": {
     "name": "#%% md\n"
    }
   }
  },
  {
   "cell_type": "code",
   "execution_count": 3,
   "outputs": [
    {
     "name": "stdout",
     "output_type": "stream",
     "text": [
      "0 85 346 0 123\n",
      "0 85 346 0 123\n",
      "0 85 346 0 123\n",
      "0 86 346 0 123\n",
      "0 86 345 0 123\n",
      "0 86 343 0 123\n",
      "0 87 338 0 123\n",
      "0 87 337 0 123\n",
      "0 88 333 0 123\n",
      "0 88 332 0 123\n",
      "0 90 328 0 123\n",
      "0 92 323 0 123\n",
      "0 94 317 0 123\n",
      "0 94 316 0 123\n",
      "0 95 316 0 123\n",
      "0 97 311 0 123\n",
      "0 97 310 0 123\n",
      "0 101 303 0 123\n",
      "0 101 302 0 123\n",
      "0 102 302 0 123\n",
      "0 102 301 0 123\n",
      "0 103 300 0 123\n",
      "0 106 295 0 123\n",
      "0 107 294 0 123\n",
      "0 114 285 0 123\n",
      "0 114 283 0 123\n",
      "0 126 269 0 123\n",
      "0 126 268 0 123\n",
      "0 127 267 0 123\n",
      "0 129 264 0 123\n",
      "0 140 251 0 123\n",
      "0 141 251 0 123\n",
      "0 142 249 0 123\n",
      "0 153 237 0 123\n",
      "0 154 235 0 123\n",
      "0 155 234 0 123\n",
      "0 162 227 0 123\n",
      "0 163 226 0 123\n",
      "0 163 225 0 123\n",
      "0 169 218 0 123\n",
      "0 170 218 0 123\n",
      "0 170 217 0 123\n",
      "0 175 211 0 123\n",
      "0 175 210 0 123\n",
      "0 181 204 0 123\n",
      "0 181 203 0 123\n",
      "0 182 202 0 123\n",
      "0 186 197 0 123\n",
      "0 187 197 0 123\n",
      "0 187 196 0 123\n",
      "0 191 192 0 123\n",
      "0 192 192 0 123\n",
      "0 196 187 0 123\n",
      "0 202 181 0 123\n",
      "0 208 176 0 123\n",
      "0 212 172 0 123\n",
      "0 212 171 0 123\n",
      "0 216 168 0 123\n",
      "0 218 166 0 123\n",
      "0 218 165 0 123\n",
      "0 220 164 0 123\n",
      "0 221 164 0 123\n",
      "0 222 163 0 123\n",
      "0 223 162 0 123\n",
      "0 225 161 0 123\n",
      "0 227 160 0 123\n",
      "0 230 158 0 123\n",
      "0 233 156 0 123\n",
      "0 234 156 0 123\n",
      "0 237 154 0 123\n",
      "0 238 154 0 123\n",
      "0 242 151 0 123\n",
      "0 248 148 0 123\n",
      "0 249 148 0 123\n",
      "0 250 147 0 123\n",
      "0 256 145 0 123\n",
      "0 256 144 0 123\n",
      "0 257 144 0 123\n",
      "0 263 143 0 123\n",
      "0 263 142 0 123\n",
      "0 264 142 0 123\n",
      "0 272 140 0 123\n",
      "0 273 140 0 123\n",
      "0 281 139 0 123\n",
      "0 282 138 0 123\n",
      "0 290 138 0 123\n",
      "0 291 138 0 123\n",
      "0 292 138 0 123\n",
      "0 293 138 0 123\n",
      "0 293 137 0 123\n",
      "0 294 137 0 123\n",
      "0 301 137 0 123\n",
      "0 303 137 0 123\n",
      "0 311 137 0 123\n",
      "0 312 137 0 123\n",
      "0 313 137 0 123\n",
      "0 314 137 0 123\n",
      "0 321 137 0 123\n",
      "0 323 137 0 123\n",
      "0 331 137 0 123\n",
      "0 332 137 0 123\n",
      "0 341 137 0 123\n",
      "0 342 137 0 123\n",
      "0 343 137 0 123\n",
      "0 343 138 0 123\n",
      "0 344 138 0 123\n",
      "0 345 138 0 123\n",
      "0 346 138 0 123\n",
      "0 347 138 0 123\n",
      "0 351 139 0 123\n",
      "0 352 139 0 123\n",
      "0 360 140 0 123\n",
      "0 361 140 0 123\n",
      "0 362 141 0 123\n",
      "0 367 142 0 123\n",
      "0 367 143 0 123\n",
      "0 368 143 0 123\n",
      "0 371 144 0 123\n",
      "0 372 144 0 123\n",
      "0 373 144 0 123\n",
      "0 375 146 0 123\n",
      "0 377 148 0 123\n",
      "0 378 150 0 123\n",
      "0 379 151 0 123\n",
      "0 379 154 0 123\n",
      "0 380 154 0 123\n",
      "0 380 155 0 123\n",
      "0 381 159 0 123\n",
      "0 382 159 0 123\n",
      "0 382 160 0 123\n",
      "0 383 165 0 123\n",
      "0 383 166 0 123\n",
      "0 384 171 0 123\n",
      "0 384 173 0 123\n",
      "0 386 173 0 123\n",
      "0 392 172 0 123\n",
      "0 393 171 0 123\n",
      "0 403 162 0 123\n",
      "0 405 160 0 123\n",
      "0 413 150 0 123\n",
      "0 414 149 0 123\n",
      "0 414 148 0 123\n",
      "0 415 147 0 123\n",
      "0 415 146 0 123\n",
      "0 422 135 0 123\n",
      "0 423 134 0 123\n",
      "0 425 132 0 123\n",
      "0 425 131 0 123\n",
      "0 426 131 0 123\n",
      "0 433 120 0 123\n",
      "0 434 119 0 123\n",
      "0 436 117 0 123\n",
      "0 437 117 0 123\n",
      "0 448 104 0 123\n",
      "0 449 104 0 123\n",
      "0 450 102 0 123\n",
      "0 461 92 0 123\n",
      "0 463 91 0 123\n",
      "0 475 79 0 123\n",
      "0 477 77 0 123\n",
      "0 478 77 0 123\n",
      "0 478 76 0 123\n",
      "0 480 75 0 123\n",
      "0 491 64 0 123\n",
      "0 493 63 0 123\n",
      "0 493 62 0 123\n",
      "0 495 61 0 123\n",
      "0 496 60 0 123\n",
      "0 498 59 0 123\n",
      "0 498 58 0 123\n",
      "0 507 50 0 123\n",
      "0 508 49 0 123\n",
      "0 509 48 0 123\n",
      "0 510 47 0 123\n",
      "0 521 36 0 123\n",
      "0 523 36 0 123\n",
      "0 524 35 0 123\n",
      "0 533 26 0 123\n",
      "0 541 19 0 123\n",
      "0 543 18 0 123\n",
      "0 550 11 0 123\n",
      "0 551 10 0 123\n",
      "0 558 5 0 123\n",
      "0 559 4 0 123\n",
      "0 559 3 0 123\n",
      "0 560 3 0 123\n"
     ]
    }
   ],
   "source": [
    "import cv2\n",
    "import numpy as np\n",
    "\n",
    "# 函数名可以随便取，但是参数的个数必须是五个（参数名也可随便）\n",
    "# event 表示鼠标事件 ; x,y是鼠标发生事件的坐标\n",
    "# flags 表示鼠标的组合按键\n",
    "def mouse_callback(event,x,y,flags,userdata):\n",
    "    print(event,x,y,flags,userdata)\n",
    "\n",
    "# 创建窗口\n",
    "cv2.namedWindow('mouse',cv2.WINDOW_NORMAL)\n",
    "# 宽度和高度\n",
    "cv2.resizeWindow('mouse',640,360)\n",
    "\n",
    "# 设置鼠标的回调函数\n",
    "cv2.setMouseCallback('mouse',mouse_callback,'123')\n",
    "\n",
    "# 生成全黑图片 （np全是零的图） 注意：先行后列\n",
    "img = np.zeros((360,640,3),np.uint8)\n",
    "while True:\n",
    "    cv2.imshow('mouse',img)\n",
    "    key = cv2.waitKey(1)\n",
    "    if key == ord('q'):\n",
    "        break\n",
    "\n",
    "cv2.destroyAllWindows()"
   ],
   "metadata": {
    "collapsed": false,
    "pycharm": {
     "name": "#%%\n"
    }
   }
  },
  {
   "cell_type": "markdown",
   "source": [
    "### Trackbar 的使用"
   ],
   "metadata": {
    "collapsed": false,
    "pycharm": {
     "name": "#%% md\n"
    }
   }
  },
  {
   "cell_type": "code",
   "execution_count": 2,
   "outputs": [
    {
     "ename": "error",
     "evalue": "OpenCV(4.6.0) D:\\a\\opencv-python\\opencv-python\\opencv\\modules\\highgui\\src\\window_w32.cpp:2581: error: (-27:Null pointer) NULL window: 'trackbar' in function 'cvGetTrackbarPos'\n",
     "output_type": "error",
     "traceback": [
      "\u001B[1;31m---------------------------------------------------------------------------\u001B[0m",
      "\u001B[1;31merror\u001B[0m                                     Traceback (most recent call last)",
      "Input \u001B[1;32mIn [2]\u001B[0m, in \u001B[0;36m<cell line: 23>\u001B[1;34m()\u001B[0m\n\u001B[0;32m     19\u001B[0m img \u001B[38;5;241m=\u001B[39m np\u001B[38;5;241m.\u001B[39mzeros((\u001B[38;5;241m480\u001B[39m,\u001B[38;5;241m640\u001B[39m,\u001B[38;5;241m3\u001B[39m),np\u001B[38;5;241m.\u001B[39muint8)\n\u001B[0;32m     21\u001B[0m \u001B[38;5;28;01mwhile\u001B[39;00m \u001B[38;5;28;01mTrue\u001B[39;00m:\n\u001B[0;32m     22\u001B[0m     \u001B[38;5;66;03m# 获取当前trackbar 的值\u001B[39;00m\n\u001B[1;32m---> 23\u001B[0m     r \u001B[38;5;241m=\u001B[39m \u001B[43mcv2\u001B[49m\u001B[38;5;241;43m.\u001B[39;49m\u001B[43mgetTrackbarPos\u001B[49m\u001B[43m(\u001B[49m\u001B[38;5;124;43m'\u001B[39;49m\u001B[38;5;124;43mR\u001B[39;49m\u001B[38;5;124;43m'\u001B[39;49m\u001B[43m,\u001B[49m\u001B[38;5;124;43m'\u001B[39;49m\u001B[38;5;124;43mtrackbar\u001B[39;49m\u001B[38;5;124;43m'\u001B[39;49m\u001B[43m)\u001B[49m\n\u001B[0;32m     24\u001B[0m     g \u001B[38;5;241m=\u001B[39m cv2\u001B[38;5;241m.\u001B[39mgetTrackbarPos(\u001B[38;5;124m'\u001B[39m\u001B[38;5;124mG\u001B[39m\u001B[38;5;124m'\u001B[39m,\u001B[38;5;124m'\u001B[39m\u001B[38;5;124mtrackbar\u001B[39m\u001B[38;5;124m'\u001B[39m)\n\u001B[0;32m     25\u001B[0m     b \u001B[38;5;241m=\u001B[39m cv2\u001B[38;5;241m.\u001B[39mgetTrackbarPos(\u001B[38;5;124m'\u001B[39m\u001B[38;5;124mB\u001B[39m\u001B[38;5;124m'\u001B[39m,\u001B[38;5;124m'\u001B[39m\u001B[38;5;124mtrackbar\u001B[39m\u001B[38;5;124m'\u001B[39m)\n",
      "\u001B[1;31merror\u001B[0m: OpenCV(4.6.0) D:\\a\\opencv-python\\opencv-python\\opencv\\modules\\highgui\\src\\window_w32.cpp:2581: error: (-27:Null pointer) NULL window: 'trackbar' in function 'cvGetTrackbarPos'\n"
     ]
    }
   ],
   "source": [
    "import cv2\n",
    "import numpy as np\n",
    "\n",
    "# 创建窗口\n",
    "cv2.namedWindow('trackbar', cv2.WINDOW_NORMAL)\n",
    "cv2.resizeWindow('trackbar',640,480)\n",
    "\n",
    "# 定义回调函数\n",
    "def callback(value):\n",
    "    # print(value)\n",
    "    pass\n",
    "\n",
    "# 创造3个 trackbar\n",
    "cv2.createTrackbar('R','trackbar',0,255,callback)\n",
    "cv2.createTrackbar('G','trackbar',0,255,callback)\n",
    "cv2.createTrackbar('B','trackbar',0,255,callback)\n",
    "\n",
    "# 创造一个背景图片\n",
    "img = np.zeros((480,640,3),np.uint8)\n",
    "\n",
    "while True:\n",
    "    # 获取当前trackbar 的值\n",
    "    r = cv2.getTrackbarPos('R','trackbar')\n",
    "    g = cv2.getTrackbarPos('G','trackbar')\n",
    "    b = cv2.getTrackbarPos('B','trackbar')\n",
    "\n",
    "    # 改变背景图标颜色\n",
    "    img[:] = [b,g,r]\n",
    "    cv2.imshow('trackbar',img)\n",
    "\n",
    "    key = cv2.waitKey(1)\n",
    "    if key &0xFF == ord('q'):\n",
    "        break\n",
    "\n",
    "cv2.destroyAllWindows()"
   ],
   "metadata": {
    "collapsed": false,
    "pycharm": {
     "name": "#%%\n"
    }
   }
  }
 ],
 "metadata": {
  "kernelspec": {
   "display_name": "Python 3",
   "language": "python",
   "name": "python3"
  },
  "language_info": {
   "codemirror_mode": {
    "name": "ipython",
    "version": 2
   },
   "file_extension": ".py",
   "mimetype": "text/x-python",
   "name": "python",
   "nbconvert_exporter": "python",
   "pygments_lexer": "ipython2",
   "version": "2.7.6"
  }
 },
 "nbformat": 4,
 "nbformat_minor": 0
}